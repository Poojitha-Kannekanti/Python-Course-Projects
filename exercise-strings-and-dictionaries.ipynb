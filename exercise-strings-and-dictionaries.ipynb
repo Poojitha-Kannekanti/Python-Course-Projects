{
 "cells": [
  {
   "cell_type": "markdown",
   "id": "1d66b87a",
   "metadata": {
    "papermill": {
     "duration": 0.005105,
     "end_time": "2025-03-21T18:31:17.672169",
     "exception": false,
     "start_time": "2025-03-21T18:31:17.667064",
     "status": "completed"
    },
    "tags": []
   },
   "source": [
    "**This notebook is an exercise in the [Python](https://www.kaggle.com/learn/python) course.  You can reference the tutorial at [this link](https://www.kaggle.com/colinmorris/strings-and-dictionaries).**\n",
    "\n",
    "---\n"
   ]
  },
  {
   "cell_type": "markdown",
   "id": "b362332e",
   "metadata": {
    "papermill": {
     "duration": 0.004034,
     "end_time": "2025-03-21T18:31:17.680880",
     "exception": false,
     "start_time": "2025-03-21T18:31:17.676846",
     "status": "completed"
    },
    "tags": []
   },
   "source": [
    "You are almost done with the course. Nice job!\n",
    "\n",
    "We have a couple more interesting problems for you before you go. \n",
    "\n",
    "As always, run the setup code below before working on the questions."
   ]
  },
  {
   "cell_type": "code",
   "execution_count": 1,
   "id": "f9ddc53e",
   "metadata": {
    "execution": {
     "iopub.execute_input": "2025-03-21T18:31:17.690852Z",
     "iopub.status.busy": "2025-03-21T18:31:17.690503Z",
     "iopub.status.idle": "2025-03-21T18:31:18.731291Z",
     "shell.execute_reply": "2025-03-21T18:31:18.729826Z"
    },
    "papermill": {
     "duration": 1.048019,
     "end_time": "2025-03-21T18:31:18.733300",
     "exception": false,
     "start_time": "2025-03-21T18:31:17.685281",
     "status": "completed"
    },
    "tags": []
   },
   "outputs": [
    {
     "name": "stdout",
     "output_type": "stream",
     "text": [
      "Setup complete.\n"
     ]
    }
   ],
   "source": [
    "from learntools.core import binder; binder.bind(globals())\n",
    "from learntools.python.ex6 import *\n",
    "print('Setup complete.')"
   ]
  },
  {
   "cell_type": "markdown",
   "id": "b7879525",
   "metadata": {
    "papermill": {
     "duration": 0.004273,
     "end_time": "2025-03-21T18:31:18.742407",
     "exception": false,
     "start_time": "2025-03-21T18:31:18.738134",
     "status": "completed"
    },
    "tags": []
   },
   "source": [
    "Let's start with a string lightning round to warm up. What are the lengths of the strings below?\n",
    "\n",
    "For each of the five strings below, predict what `len()` would return when passed that string. Use the variable `length` to record your answer, then run the cell to check whether you were right.  \n",
    "\n",
    "# 0a."
   ]
  },
  {
   "cell_type": "code",
   "execution_count": 2,
   "id": "c6cd719b",
   "metadata": {
    "execution": {
     "iopub.execute_input": "2025-03-21T18:31:18.752631Z",
     "iopub.status.busy": "2025-03-21T18:31:18.752138Z",
     "iopub.status.idle": "2025-03-21T18:31:18.761038Z",
     "shell.execute_reply": "2025-03-21T18:31:18.760112Z"
    },
    "papermill": {
     "duration": 0.016202,
     "end_time": "2025-03-21T18:31:18.763003",
     "exception": false,
     "start_time": "2025-03-21T18:31:18.746801",
     "status": "completed"
    },
    "tags": []
   },
   "outputs": [
    {
     "data": {
      "application/javascript": [
       "parent.postMessage({\"jupyterEvent\": \"custom.exercise_interaction\", \"data\": {\"outcomeType\": 1, \"valueTowardsCompletion\": 0.3333333333333333, \"interactionType\": 1, \"questionType\": 1, \"questionId\": \"0.1_ZA\", \"learnToolsVersion\": \"0.3.4\", \"failureMessage\": \"\", \"exceptionClass\": \"\", \"trace\": \"\"}}, \"*\")"
      ],
      "text/plain": [
       "<IPython.core.display.Javascript object>"
      ]
     },
     "metadata": {},
     "output_type": "display_data"
    },
    {
     "data": {
      "text/markdown": [
       "<span style=\"color:#33cc33\">Correct:</span> \n",
       "\n",
       "The empty string has length zero. Note that the empty string is also the only string that Python considers as False when converting to boolean."
      ],
      "text/plain": [
       "Correct: \n",
       "\n",
       "The empty string has length zero. Note that the empty string is also the only string that Python considers as False when converting to boolean."
      ]
     },
     "metadata": {},
     "output_type": "display_data"
    }
   ],
   "source": [
    "a = \"\"\n",
    "length = 0\n",
    "q0.a.check()"
   ]
  },
  {
   "cell_type": "markdown",
   "id": "e71b8a4e",
   "metadata": {
    "papermill": {
     "duration": 0.004492,
     "end_time": "2025-03-21T18:31:18.772694",
     "exception": false,
     "start_time": "2025-03-21T18:31:18.768202",
     "status": "completed"
    },
    "tags": []
   },
   "source": [
    "# 0b."
   ]
  },
  {
   "cell_type": "code",
   "execution_count": 3,
   "id": "355c1db9",
   "metadata": {
    "execution": {
     "iopub.execute_input": "2025-03-21T18:31:18.783505Z",
     "iopub.status.busy": "2025-03-21T18:31:18.783144Z",
     "iopub.status.idle": "2025-03-21T18:31:18.790861Z",
     "shell.execute_reply": "2025-03-21T18:31:18.789895Z"
    },
    "papermill": {
     "duration": 0.01521,
     "end_time": "2025-03-21T18:31:18.792631",
     "exception": false,
     "start_time": "2025-03-21T18:31:18.777421",
     "status": "completed"
    },
    "tags": []
   },
   "outputs": [
    {
     "data": {
      "application/javascript": [
       "parent.postMessage({\"jupyterEvent\": \"custom.exercise_interaction\", \"data\": {\"outcomeType\": 1, \"valueTowardsCompletion\": 0.3333333333333333, \"interactionType\": 1, \"questionType\": 1, \"questionId\": \"0.2_ZB\", \"learnToolsVersion\": \"0.3.4\", \"failureMessage\": \"\", \"exceptionClass\": \"\", \"trace\": \"\"}}, \"*\")"
      ],
      "text/plain": [
       "<IPython.core.display.Javascript object>"
      ]
     },
     "metadata": {},
     "output_type": "display_data"
    },
    {
     "data": {
      "text/markdown": [
       "<span style=\"color:#33cc33\">Correct:</span> \n",
       "\n",
       "Keep in mind Python includes spaces (and punctuation) when counting string length."
      ],
      "text/plain": [
       "Correct: \n",
       "\n",
       "Keep in mind Python includes spaces (and punctuation) when counting string length."
      ]
     },
     "metadata": {},
     "output_type": "display_data"
    }
   ],
   "source": [
    "b = \"it's ok\"\n",
    "length = 7\n",
    "q0.b.check()"
   ]
  },
  {
   "cell_type": "markdown",
   "id": "bce4d013",
   "metadata": {
    "papermill": {
     "duration": 0.004922,
     "end_time": "2025-03-21T18:31:18.803087",
     "exception": false,
     "start_time": "2025-03-21T18:31:18.798165",
     "status": "completed"
    },
    "tags": []
   },
   "source": [
    "# 0c."
   ]
  },
  {
   "cell_type": "code",
   "execution_count": 4,
   "id": "9e068e14",
   "metadata": {
    "execution": {
     "iopub.execute_input": "2025-03-21T18:31:18.814529Z",
     "iopub.status.busy": "2025-03-21T18:31:18.814174Z",
     "iopub.status.idle": "2025-03-21T18:31:18.822037Z",
     "shell.execute_reply": "2025-03-21T18:31:18.820767Z"
    },
    "papermill": {
     "duration": 0.015776,
     "end_time": "2025-03-21T18:31:18.824001",
     "exception": false,
     "start_time": "2025-03-21T18:31:18.808225",
     "status": "completed"
    },
    "tags": []
   },
   "outputs": [
    {
     "data": {
      "application/javascript": [
       "parent.postMessage({\"jupyterEvent\": \"custom.exercise_interaction\", \"data\": {\"outcomeType\": 1, \"valueTowardsCompletion\": 0.3333333333333333, \"interactionType\": 1, \"questionType\": 1, \"questionId\": \"0.3_ZC\", \"learnToolsVersion\": \"0.3.4\", \"failureMessage\": \"\", \"exceptionClass\": \"\", \"trace\": \"\"}}, \"*\")"
      ],
      "text/plain": [
       "<IPython.core.display.Javascript object>"
      ]
     },
     "metadata": {},
     "output_type": "display_data"
    },
    {
     "data": {
      "text/markdown": [
       "<span style=\"color:#33cc33\">Correct:</span> \n",
       "\n",
       "Even though we use different syntax to create it, the string `c` is identical to `b`. In particular, note that the backslash is not part of the string, so it doesn't contribute to its length."
      ],
      "text/plain": [
       "Correct: \n",
       "\n",
       "Even though we use different syntax to create it, the string `c` is identical to `b`. In particular, note that the backslash is not part of the string, so it doesn't contribute to its length."
      ]
     },
     "metadata": {},
     "output_type": "display_data"
    }
   ],
   "source": [
    "c = 'it\\'s ok'\n",
    "length = 7\n",
    "q0.c.check()"
   ]
  },
  {
   "cell_type": "markdown",
   "id": "7f5ee4ed",
   "metadata": {
    "papermill": {
     "duration": 0.005326,
     "end_time": "2025-03-21T18:31:18.835114",
     "exception": false,
     "start_time": "2025-03-21T18:31:18.829788",
     "status": "completed"
    },
    "tags": []
   },
   "source": [
    "# 0d."
   ]
  },
  {
   "cell_type": "code",
   "execution_count": 5,
   "id": "e3d75751",
   "metadata": {
    "execution": {
     "iopub.execute_input": "2025-03-21T18:31:18.848583Z",
     "iopub.status.busy": "2025-03-21T18:31:18.848061Z",
     "iopub.status.idle": "2025-03-21T18:31:18.857805Z",
     "shell.execute_reply": "2025-03-21T18:31:18.856174Z"
    },
    "papermill": {
     "duration": 0.018979,
     "end_time": "2025-03-21T18:31:18.859671",
     "exception": false,
     "start_time": "2025-03-21T18:31:18.840692",
     "status": "completed"
    },
    "tags": []
   },
   "outputs": [
    {
     "data": {
      "application/javascript": [
       "parent.postMessage({\"jupyterEvent\": \"custom.exercise_interaction\", \"data\": {\"outcomeType\": 1, \"valueTowardsCompletion\": 0.3333333333333333, \"interactionType\": 1, \"questionType\": 1, \"questionId\": \"0.4_ZD\", \"learnToolsVersion\": \"0.3.4\", \"failureMessage\": \"\", \"exceptionClass\": \"\", \"trace\": \"\"}}, \"*\")"
      ],
      "text/plain": [
       "<IPython.core.display.Javascript object>"
      ]
     },
     "metadata": {},
     "output_type": "display_data"
    },
    {
     "data": {
      "text/markdown": [
       "<span style=\"color:#33cc33\">Correct:</span> \n",
       "\n",
       "The fact that this string was created using triple-quote syntax doesn't make any difference in terms of its content or length. This string is exactly the same as `'hey'`."
      ],
      "text/plain": [
       "Correct: \n",
       "\n",
       "The fact that this string was created using triple-quote syntax doesn't make any difference in terms of its content or length. This string is exactly the same as `'hey'`."
      ]
     },
     "metadata": {},
     "output_type": "display_data"
    }
   ],
   "source": [
    "d = \"\"\"hey\"\"\"\n",
    "length = 3\n",
    "q0.d.check()"
   ]
  },
  {
   "cell_type": "markdown",
   "id": "2026b7d4",
   "metadata": {
    "papermill": {
     "duration": 0.00538,
     "end_time": "2025-03-21T18:31:18.871099",
     "exception": false,
     "start_time": "2025-03-21T18:31:18.865719",
     "status": "completed"
    },
    "tags": []
   },
   "source": [
    "# 0e."
   ]
  },
  {
   "cell_type": "code",
   "execution_count": 6,
   "id": "950b30d6",
   "metadata": {
    "execution": {
     "iopub.execute_input": "2025-03-21T18:31:18.884770Z",
     "iopub.status.busy": "2025-03-21T18:31:18.884416Z",
     "iopub.status.idle": "2025-03-21T18:31:18.892563Z",
     "shell.execute_reply": "2025-03-21T18:31:18.891161Z"
    },
    "papermill": {
     "duration": 0.016797,
     "end_time": "2025-03-21T18:31:18.894485",
     "exception": false,
     "start_time": "2025-03-21T18:31:18.877688",
     "status": "completed"
    },
    "tags": []
   },
   "outputs": [
    {
     "data": {
      "application/javascript": [
       "parent.postMessage({\"jupyterEvent\": \"custom.exercise_interaction\", \"data\": {\"outcomeType\": 1, \"valueTowardsCompletion\": 0.3333333333333333, \"interactionType\": 1, \"questionType\": 1, \"questionId\": \"0.5_ZE\", \"learnToolsVersion\": \"0.3.4\", \"failureMessage\": \"\", \"exceptionClass\": \"\", \"trace\": \"\"}}, \"*\")"
      ],
      "text/plain": [
       "<IPython.core.display.Javascript object>"
      ]
     },
     "metadata": {},
     "output_type": "display_data"
    },
    {
     "data": {
      "text/markdown": [
       "<span style=\"color:#33cc33\">Correct:</span> \n",
       "\n",
       "The newline character is just a single character! (Even though we represent it to Python using a combination of two characters.)"
      ],
      "text/plain": [
       "Correct: \n",
       "\n",
       "The newline character is just a single character! (Even though we represent it to Python using a combination of two characters.)"
      ]
     },
     "metadata": {},
     "output_type": "display_data"
    }
   ],
   "source": [
    "e = '\\n'\n",
    "length = 1\n",
    "q0.e.check()"
   ]
  },
  {
   "cell_type": "markdown",
   "id": "e6a767ad",
   "metadata": {
    "papermill": {
     "duration": 0.005631,
     "end_time": "2025-03-21T18:31:18.906860",
     "exception": false,
     "start_time": "2025-03-21T18:31:18.901229",
     "status": "completed"
    },
    "tags": []
   },
   "source": [
    "# 1.\n",
    "\n",
    "There is a saying that \"Data scientists spend 80% of their time cleaning data, and 20% of their time complaining about cleaning data.\" Let's see if you can write a function to help clean US zip code data. Given a string, it should return whether or not that string represents a valid zip code. For our purposes, a valid zip code is any string consisting of exactly 5 digits.\n",
    "\n",
    "HINT: `str` has a method that will be useful here. Use `help(str)` to review a list of string methods."
   ]
  },
  {
   "cell_type": "code",
   "execution_count": 7,
   "id": "16c71954",
   "metadata": {
    "execution": {
     "iopub.execute_input": "2025-03-21T18:31:18.919875Z",
     "iopub.status.busy": "2025-03-21T18:31:18.919533Z",
     "iopub.status.idle": "2025-03-21T18:31:18.927855Z",
     "shell.execute_reply": "2025-03-21T18:31:18.926445Z"
    },
    "papermill": {
     "duration": 0.016859,
     "end_time": "2025-03-21T18:31:18.929614",
     "exception": false,
     "start_time": "2025-03-21T18:31:18.912755",
     "status": "completed"
    },
    "tags": []
   },
   "outputs": [
    {
     "data": {
      "application/javascript": [
       "parent.postMessage({\"jupyterEvent\": \"custom.exercise_interaction\", \"data\": {\"outcomeType\": 1, \"valueTowardsCompletion\": 0.3333333333333333, \"interactionType\": 1, \"questionType\": 2, \"questionId\": \"1_ZipValidator\", \"learnToolsVersion\": \"0.3.4\", \"failureMessage\": \"\", \"exceptionClass\": \"\", \"trace\": \"\"}}, \"*\")"
      ],
      "text/plain": [
       "<IPython.core.display.Javascript object>"
      ]
     },
     "metadata": {},
     "output_type": "display_data"
    },
    {
     "data": {
      "text/markdown": [
       "<span style=\"color:#33cc33\">Correct</span>"
      ],
      "text/plain": [
       "Correct"
      ]
     },
     "metadata": {},
     "output_type": "display_data"
    }
   ],
   "source": [
    "def is_valid_zip(zip_code):\n",
    "    \"\"\"Returns whether the input string is a valid (5 digit) zip code\n",
    "    \"\"\"\n",
    "    return zip_code.isdigit() and len(zip_code) == 5\n",
    "\n",
    "\n",
    "# Check your answer\n",
    "q1.check()"
   ]
  },
  {
   "cell_type": "code",
   "execution_count": 8,
   "id": "f0833905",
   "metadata": {
    "execution": {
     "iopub.execute_input": "2025-03-21T18:31:18.943818Z",
     "iopub.status.busy": "2025-03-21T18:31:18.943465Z",
     "iopub.status.idle": "2025-03-21T18:31:18.947277Z",
     "shell.execute_reply": "2025-03-21T18:31:18.945955Z"
    },
    "papermill": {
     "duration": 0.012834,
     "end_time": "2025-03-21T18:31:18.949141",
     "exception": false,
     "start_time": "2025-03-21T18:31:18.936307",
     "status": "completed"
    },
    "tags": []
   },
   "outputs": [],
   "source": [
    "#q1.hint()\n",
    "#q1.solution()"
   ]
  },
  {
   "cell_type": "markdown",
   "id": "00d3d5fd",
   "metadata": {
    "papermill": {
     "duration": 0.005896,
     "end_time": "2025-03-21T18:31:18.961718",
     "exception": false,
     "start_time": "2025-03-21T18:31:18.955822",
     "status": "completed"
    },
    "tags": []
   },
   "source": [
    "# 2.\n",
    "\n",
    "A researcher has gathered thousands of news articles. But she wants to focus her attention on articles including a specific word. Complete the function below to help her filter her list of articles.\n",
    "\n",
    "Your function should meet the following criteria:\n",
    "\n",
    "- Do not include documents where the keyword string shows up only as a part of a larger word. For example, if she were looking for the keyword “closed”, you would not include the string “enclosed.” \n",
    "- She does not want you to distinguish upper case from lower case letters. So the phrase “Closed the case.” would be included when the keyword is “closed”\n",
    "- Do not let periods or commas affect what is matched. “It is closed.” would be included when the keyword is “closed”. But you can assume there are no other types of punctuation."
   ]
  },
  {
   "cell_type": "code",
   "execution_count": 9,
   "id": "238b939a",
   "metadata": {
    "execution": {
     "iopub.execute_input": "2025-03-21T18:31:18.975448Z",
     "iopub.status.busy": "2025-03-21T18:31:18.975080Z",
     "iopub.status.idle": "2025-03-21T18:31:18.985375Z",
     "shell.execute_reply": "2025-03-21T18:31:18.984148Z"
    },
    "papermill": {
     "duration": 0.019283,
     "end_time": "2025-03-21T18:31:18.987204",
     "exception": false,
     "start_time": "2025-03-21T18:31:18.967921",
     "status": "completed"
    },
    "tags": []
   },
   "outputs": [
    {
     "data": {
      "application/javascript": [
       "parent.postMessage({\"jupyterEvent\": \"custom.exercise_interaction\", \"data\": {\"outcomeType\": 1, \"valueTowardsCompletion\": 0.3333333333333333, \"interactionType\": 1, \"questionType\": 2, \"questionId\": \"2_WordSearch\", \"learnToolsVersion\": \"0.3.4\", \"failureMessage\": \"\", \"exceptionClass\": \"\", \"trace\": \"\"}}, \"*\")"
      ],
      "text/plain": [
       "<IPython.core.display.Javascript object>"
      ]
     },
     "metadata": {},
     "output_type": "display_data"
    },
    {
     "data": {
      "text/markdown": [
       "<span style=\"color:#33cc33\">Correct</span>"
      ],
      "text/plain": [
       "Correct"
      ]
     },
     "metadata": {},
     "output_type": "display_data"
    }
   ],
   "source": [
    "def word_search(doc_list, keyword):\n",
    "    indices = [] \n",
    "    # Iterate through the indices (i) and elements (doc) of documents\n",
    "    for i, doc in enumerate(doc_list):\n",
    "        # Split the string doc into a list of words (according to whitespace)\n",
    "        tokens = doc.split()\n",
    "        # Make a transformed list where we 'normalize' each word to facilitate matching.\n",
    "        # Periods and commas are removed from the end of each word, and it's set to all lowercase.\n",
    "        normalized = [token.rstrip('.,').lower() for token in tokens]\n",
    "        # Is there a match? If so, update the list of matching indices.\n",
    "        if keyword.lower() in normalized:\n",
    "            indices.append(i)\n",
    "    return indices\n",
    "    \"\"\"\n",
    "    Takes a list of documents (each document is a string) and a keyword. \n",
    "    Returns list of the index values into the original list for all documents \n",
    "    containing the keyword.\n",
    "\n",
    "    Example:\n",
    "    doc_list = [\"The Learn Python Challenge Casino.\", \"They bought a car\", \"Casinoville\"]\n",
    "    >>> word_search(doc_list, 'casino')\n",
    "    >>> [0]\n",
    "    \"\"\"\n",
    "    # Iterate through the indices (i) and elements (doc) of documents\n",
    "    for i, doc in enumerate(doc_list):\n",
    "        # Split the string doc into a list of words (according to whitespace)\n",
    "        tokens = doc.split()\n",
    "        # Make a transformed list where we 'normalize' each word to facilitate matching.\n",
    "        # Periods and commas are removed from the end of each word, and it's set to all lowercase.\n",
    "        normalized = [token.rstrip('.,').lower() for token in tokens]\n",
    "        # Is there a match? If so, update the list of matching indices.\n",
    "        if keyword.lower() in normalized:\n",
    "            indices.append(i)\n",
    "    return indices\n",
    "# Check your answer\n",
    "q2.check()"
   ]
  },
  {
   "cell_type": "code",
   "execution_count": 10,
   "id": "85169737",
   "metadata": {
    "execution": {
     "iopub.execute_input": "2025-03-21T18:31:19.002610Z",
     "iopub.status.busy": "2025-03-21T18:31:19.002255Z",
     "iopub.status.idle": "2025-03-21T18:31:19.006424Z",
     "shell.execute_reply": "2025-03-21T18:31:19.005153Z"
    },
    "papermill": {
     "duration": 0.014515,
     "end_time": "2025-03-21T18:31:19.008355",
     "exception": false,
     "start_time": "2025-03-21T18:31:18.993840",
     "status": "completed"
    },
    "tags": []
   },
   "outputs": [],
   "source": [
    "#q2.hint()\n",
    "#q2.solution()"
   ]
  },
  {
   "cell_type": "markdown",
   "id": "cc77605d",
   "metadata": {
    "papermill": {
     "duration": 0.006712,
     "end_time": "2025-03-21T18:31:19.022083",
     "exception": false,
     "start_time": "2025-03-21T18:31:19.015371",
     "status": "completed"
    },
    "tags": []
   },
   "source": [
    "# 3.\n",
    "\n",
    "Now the researcher wants to supply multiple keywords to search for. Complete the function below to help her.\n",
    "\n",
    "(You're encouraged to use the `word_search` function you just wrote when implementing this function. Reusing code in this way makes your programs more robust and readable - and it saves typing!)"
   ]
  },
  {
   "cell_type": "code",
   "execution_count": 11,
   "id": "3ca6c6c9",
   "metadata": {
    "execution": {
     "iopub.execute_input": "2025-03-21T18:31:19.037960Z",
     "iopub.status.busy": "2025-03-21T18:31:19.037616Z",
     "iopub.status.idle": "2025-03-21T18:31:19.046954Z",
     "shell.execute_reply": "2025-03-21T18:31:19.045614Z"
    },
    "papermill": {
     "duration": 0.019508,
     "end_time": "2025-03-21T18:31:19.048943",
     "exception": false,
     "start_time": "2025-03-21T18:31:19.029435",
     "status": "completed"
    },
    "tags": []
   },
   "outputs": [
    {
     "data": {
      "application/javascript": [
       "parent.postMessage({\"jupyterEvent\": \"custom.exercise_interaction\", \"data\": {\"outcomeType\": 1, \"valueTowardsCompletion\": 0.3333333333333333, \"interactionType\": 1, \"questionType\": 2, \"questionId\": \"3_MultiWordSearch\", \"learnToolsVersion\": \"0.3.4\", \"failureMessage\": \"\", \"exceptionClass\": \"\", \"trace\": \"\"}}, \"*\")"
      ],
      "text/plain": [
       "<IPython.core.display.Javascript object>"
      ]
     },
     "metadata": {},
     "output_type": "display_data"
    },
    {
     "data": {
      "text/markdown": [
       "<span style=\"color:#33cc33\">Correct</span>"
      ],
      "text/plain": [
       "Correct"
      ]
     },
     "metadata": {},
     "output_type": "display_data"
    }
   ],
   "source": [
    "def multi_word_search(documents, keywords):\n",
    "    keyword_to_indices = {}\n",
    "    for keyword in keywords:\n",
    "        keyword_to_indices[keyword] = word_search(documents, keyword)\n",
    "    return keyword_to_indices\n",
    "# Check your answer\n",
    "q3.check()"
   ]
  },
  {
   "cell_type": "code",
   "execution_count": 12,
   "id": "33fd9c25",
   "metadata": {
    "execution": {
     "iopub.execute_input": "2025-03-21T18:31:19.064720Z",
     "iopub.status.busy": "2025-03-21T18:31:19.064351Z",
     "iopub.status.idle": "2025-03-21T18:31:19.068633Z",
     "shell.execute_reply": "2025-03-21T18:31:19.067424Z"
    },
    "papermill": {
     "duration": 0.014132,
     "end_time": "2025-03-21T18:31:19.070399",
     "exception": false,
     "start_time": "2025-03-21T18:31:19.056267",
     "status": "completed"
    },
    "tags": []
   },
   "outputs": [],
   "source": [
    "#q3.solution()"
   ]
  },
  {
   "cell_type": "markdown",
   "id": "b7b1ef93",
   "metadata": {
    "papermill": {
     "duration": 0.006491,
     "end_time": "2025-03-21T18:31:19.083952",
     "exception": false,
     "start_time": "2025-03-21T18:31:19.077461",
     "status": "completed"
    },
    "tags": []
   },
   "source": [
    "# Keep Going\n",
    "\n",
    "You've learned a lot. But even the best programmers rely heavily on \"libraries\" of code from other programmers. You'll learn about that in **[the last lesson](https://www.kaggle.com/colinmorris/working-with-external-libraries)**.\n"
   ]
  },
  {
   "cell_type": "markdown",
   "id": "41d05b0c",
   "metadata": {
    "papermill": {
     "duration": 0.007801,
     "end_time": "2025-03-21T18:31:19.098631",
     "exception": false,
     "start_time": "2025-03-21T18:31:19.090830",
     "status": "completed"
    },
    "tags": []
   },
   "source": [
    "---\n",
    "\n",
    "\n",
    "\n",
    "\n",
    "*Have questions or comments? Visit the [course discussion forum](https://www.kaggle.com/learn/python/discussion) to chat with other learners.*"
   ]
  }
 ],
 "metadata": {
  "kaggle": {
   "accelerator": "none",
   "dataSources": [],
   "isGpuEnabled": false,
   "isInternetEnabled": false,
   "language": "python",
   "sourceType": "notebook"
  },
  "kernelspec": {
   "display_name": "Python 3",
   "language": "python",
   "name": "python3"
  },
  "language_info": {
   "codemirror_mode": {
    "name": "ipython",
    "version": 3
   },
   "file_extension": ".py",
   "mimetype": "text/x-python",
   "name": "python",
   "nbconvert_exporter": "python",
   "pygments_lexer": "ipython3",
   "version": "3.10.12"
  },
  "learntools_metadata": {
   "lesson_index": 5,
   "type": "exercise"
  },
  "papermill": {
   "default_parameters": {},
   "duration": 4.982073,
   "end_time": "2025-03-21T18:31:19.626941",
   "environment_variables": {},
   "exception": null,
   "input_path": "__notebook__.ipynb",
   "output_path": "__notebook__.ipynb",
   "parameters": {},
   "start_time": "2025-03-21T18:31:14.644868",
   "version": "2.6.0"
  }
 },
 "nbformat": 4,
 "nbformat_minor": 5
}
