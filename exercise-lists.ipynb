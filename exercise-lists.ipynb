{
 "cells": [
  {
   "cell_type": "markdown",
   "id": "d07d1340",
   "metadata": {
    "papermill": {
     "duration": 0.004259,
     "end_time": "2025-03-21T18:31:22.915201",
     "exception": false,
     "start_time": "2025-03-21T18:31:22.910942",
     "status": "completed"
    },
    "tags": []
   },
   "source": [
    "**This notebook is an exercise in the [Python](https://www.kaggle.com/learn/python) course.  You can reference the tutorial at [this link](https://www.kaggle.com/colinmorris/lists).**\n",
    "\n",
    "---\n"
   ]
  },
  {
   "cell_type": "markdown",
   "id": "7befb586",
   "metadata": {
    "papermill": {
     "duration": 0.003238,
     "end_time": "2025-03-21T18:31:22.922260",
     "exception": false,
     "start_time": "2025-03-21T18:31:22.919022",
     "status": "completed"
    },
    "tags": []
   },
   "source": [
    "Things get more interesting with lists. You'll apply your new knowledge to solve the questions below. Remember to run the following cell first."
   ]
  },
  {
   "cell_type": "code",
   "execution_count": 1,
   "id": "f0869161",
   "metadata": {
    "execution": {
     "iopub.execute_input": "2025-03-21T18:31:22.930857Z",
     "iopub.status.busy": "2025-03-21T18:31:22.930373Z",
     "iopub.status.idle": "2025-03-21T18:31:23.948713Z",
     "shell.execute_reply": "2025-03-21T18:31:23.947148Z"
    },
    "papermill": {
     "duration": 1.024906,
     "end_time": "2025-03-21T18:31:23.950713",
     "exception": false,
     "start_time": "2025-03-21T18:31:22.925807",
     "status": "completed"
    },
    "tags": []
   },
   "outputs": [
    {
     "name": "stdout",
     "output_type": "stream",
     "text": [
      "Setup complete.\n"
     ]
    }
   ],
   "source": [
    "from learntools.core import binder; binder.bind(globals())\n",
    "from learntools.python.ex4 import *\n",
    "print('Setup complete.')"
   ]
  },
  {
   "cell_type": "markdown",
   "id": "9cecec40",
   "metadata": {
    "papermill": {
     "duration": 0.003652,
     "end_time": "2025-03-21T18:31:23.958449",
     "exception": false,
     "start_time": "2025-03-21T18:31:23.954797",
     "status": "completed"
    },
    "tags": []
   },
   "source": [
    "# 1.\n",
    "\n",
    "Complete the function below according to its docstring."
   ]
  },
  {
   "cell_type": "code",
   "execution_count": 2,
   "id": "e9d64979",
   "metadata": {
    "execution": {
     "iopub.execute_input": "2025-03-21T18:31:23.967894Z",
     "iopub.status.busy": "2025-03-21T18:31:23.967295Z",
     "iopub.status.idle": "2025-03-21T18:31:23.976694Z",
     "shell.execute_reply": "2025-03-21T18:31:23.975668Z"
    },
    "papermill": {
     "duration": 0.016046,
     "end_time": "2025-03-21T18:31:23.978383",
     "exception": false,
     "start_time": "2025-03-21T18:31:23.962337",
     "status": "completed"
    },
    "tags": []
   },
   "outputs": [
    {
     "data": {
      "application/javascript": [
       "parent.postMessage({\"jupyterEvent\": \"custom.exercise_interaction\", \"data\": {\"outcomeType\": 1, \"valueTowardsCompletion\": 0.2, \"interactionType\": 1, \"questionType\": 2, \"questionId\": \"1_SelectSecondItem\", \"learnToolsVersion\": \"0.3.4\", \"failureMessage\": \"\", \"exceptionClass\": \"\", \"trace\": \"\"}}, \"*\")"
      ],
      "text/plain": [
       "<IPython.core.display.Javascript object>"
      ]
     },
     "metadata": {},
     "output_type": "display_data"
    },
    {
     "data": {
      "text/markdown": [
       "<span style=\"color:#33cc33\">Correct</span>"
      ],
      "text/plain": [
       "Correct"
      ]
     },
     "metadata": {},
     "output_type": "display_data"
    }
   ],
   "source": [
    "def select_second(L):\n",
    "    if len(L) < 2:\n",
    "        return None\n",
    "    return L[1]\n",
    "\n",
    "# Check your answer\n",
    "q1.check()"
   ]
  },
  {
   "cell_type": "code",
   "execution_count": 3,
   "id": "2cdb0a32",
   "metadata": {
    "execution": {
     "iopub.execute_input": "2025-03-21T18:31:23.988150Z",
     "iopub.status.busy": "2025-03-21T18:31:23.987762Z",
     "iopub.status.idle": "2025-03-21T18:31:23.991626Z",
     "shell.execute_reply": "2025-03-21T18:31:23.990745Z"
    },
    "papermill": {
     "duration": 0.01063,
     "end_time": "2025-03-21T18:31:23.993194",
     "exception": false,
     "start_time": "2025-03-21T18:31:23.982564",
     "status": "completed"
    },
    "tags": []
   },
   "outputs": [],
   "source": [
    "#q1.hint()\n",
    "#q1.solution()"
   ]
  },
  {
   "cell_type": "markdown",
   "id": "0272d036",
   "metadata": {
    "papermill": {
     "duration": 0.005235,
     "end_time": "2025-03-21T18:31:24.002710",
     "exception": false,
     "start_time": "2025-03-21T18:31:23.997475",
     "status": "completed"
    },
    "tags": []
   },
   "source": [
    "# 2.\n",
    "\n",
    "You are analyzing sports teams.  Members of each team are stored in a list. The Coach is the first name in the list, the captain is the second name in the list, and other players are listed after that. \n",
    "These lists are stored in another list, which starts with the best team and proceeds through the list to the worst team last.  Complete the function below to select the **captain** of the worst team."
   ]
  },
  {
   "cell_type": "code",
   "execution_count": 4,
   "id": "aef17608",
   "metadata": {
    "execution": {
     "iopub.execute_input": "2025-03-21T18:31:24.013342Z",
     "iopub.status.busy": "2025-03-21T18:31:24.012929Z",
     "iopub.status.idle": "2025-03-21T18:31:24.020390Z",
     "shell.execute_reply": "2025-03-21T18:31:24.019664Z"
    },
    "papermill": {
     "duration": 0.014491,
     "end_time": "2025-03-21T18:31:24.021927",
     "exception": false,
     "start_time": "2025-03-21T18:31:24.007436",
     "status": "completed"
    },
    "tags": []
   },
   "outputs": [
    {
     "data": {
      "application/javascript": [
       "parent.postMessage({\"jupyterEvent\": \"custom.exercise_interaction\", \"data\": {\"outcomeType\": 1, \"valueTowardsCompletion\": 0.2, \"interactionType\": 1, \"questionType\": 2, \"questionId\": \"2_LosingTeamCaptain\", \"learnToolsVersion\": \"0.3.4\", \"failureMessage\": \"\", \"exceptionClass\": \"\", \"trace\": \"\"}}, \"*\")"
      ],
      "text/plain": [
       "<IPython.core.display.Javascript object>"
      ]
     },
     "metadata": {},
     "output_type": "display_data"
    },
    {
     "data": {
      "text/markdown": [
       "<span style=\"color:#33cc33\">Correct</span>"
      ],
      "text/plain": [
       "Correct"
      ]
     },
     "metadata": {},
     "output_type": "display_data"
    }
   ],
   "source": [
    "def losing_team_captain(teams):\n",
    "    return teams[-1][1]\n",
    "\n",
    "# Check your answer\n",
    "q2.check()"
   ]
  },
  {
   "cell_type": "code",
   "execution_count": 5,
   "id": "2e3e70e4",
   "metadata": {
    "execution": {
     "iopub.execute_input": "2025-03-21T18:31:24.031942Z",
     "iopub.status.busy": "2025-03-21T18:31:24.031565Z",
     "iopub.status.idle": "2025-03-21T18:31:24.035259Z",
     "shell.execute_reply": "2025-03-21T18:31:24.034250Z"
    },
    "papermill": {
     "duration": 0.010495,
     "end_time": "2025-03-21T18:31:24.036833",
     "exception": false,
     "start_time": "2025-03-21T18:31:24.026338",
     "status": "completed"
    },
    "tags": []
   },
   "outputs": [],
   "source": [
    "#q2.hint()\n",
    "#q2.solution()"
   ]
  },
  {
   "cell_type": "markdown",
   "id": "09713b1d",
   "metadata": {
    "papermill": {
     "duration": 0.004065,
     "end_time": "2025-03-21T18:31:24.045574",
     "exception": false,
     "start_time": "2025-03-21T18:31:24.041509",
     "status": "completed"
    },
    "tags": []
   },
   "source": [
    "# 3.\n",
    "\n",
    "The next iteration of Mario Kart will feature an extra-infuriating new item, the *Purple Shell*. When used, it warps the last place racer into first place and the first place racer into last place. Complete the function below to implement the Purple Shell's effect."
   ]
  },
  {
   "cell_type": "code",
   "execution_count": 6,
   "id": "9ca742ee",
   "metadata": {
    "execution": {
     "iopub.execute_input": "2025-03-21T18:31:24.055544Z",
     "iopub.status.busy": "2025-03-21T18:31:24.055175Z",
     "iopub.status.idle": "2025-03-21T18:31:24.062750Z",
     "shell.execute_reply": "2025-03-21T18:31:24.061879Z"
    },
    "papermill": {
     "duration": 0.014343,
     "end_time": "2025-03-21T18:31:24.064311",
     "exception": false,
     "start_time": "2025-03-21T18:31:24.049968",
     "status": "completed"
    },
    "tags": []
   },
   "outputs": [
    {
     "data": {
      "application/javascript": [
       "parent.postMessage({\"jupyterEvent\": \"custom.exercise_interaction\", \"data\": {\"outcomeType\": 1, \"valueTowardsCompletion\": 0.2, \"interactionType\": 1, \"questionType\": 2, \"questionId\": \"3_PurpleShell\", \"learnToolsVersion\": \"0.3.4\", \"failureMessage\": \"\", \"exceptionClass\": \"\", \"trace\": \"\"}}, \"*\")"
      ],
      "text/plain": [
       "<IPython.core.display.Javascript object>"
      ]
     },
     "metadata": {},
     "output_type": "display_data"
    },
    {
     "data": {
      "text/markdown": [
       "<span style=\"color:#33cc33\">Correct</span>"
      ],
      "text/plain": [
       "Correct"
      ]
     },
     "metadata": {},
     "output_type": "display_data"
    }
   ],
   "source": [
    "def purple_shell(racers):\n",
    "    # One slick way to do the swap is x[0], x[-1] = x[-1], x[0].\n",
    "    temp = racers[0]\n",
    "    racers[0] = racers[-1]\n",
    "    racers[-1] = temp\n",
    "\n",
    "# Check your answer\n",
    "q3.check()"
   ]
  },
  {
   "cell_type": "code",
   "execution_count": 7,
   "id": "ce3f2a7c",
   "metadata": {
    "execution": {
     "iopub.execute_input": "2025-03-21T18:31:24.074969Z",
     "iopub.status.busy": "2025-03-21T18:31:24.074633Z",
     "iopub.status.idle": "2025-03-21T18:31:24.078222Z",
     "shell.execute_reply": "2025-03-21T18:31:24.077138Z"
    },
    "papermill": {
     "duration": 0.010785,
     "end_time": "2025-03-21T18:31:24.079934",
     "exception": false,
     "start_time": "2025-03-21T18:31:24.069149",
     "status": "completed"
    },
    "tags": []
   },
   "outputs": [],
   "source": [
    "#q3.hint()\n",
    "#q3.solution()"
   ]
  },
  {
   "cell_type": "markdown",
   "id": "10e46fff",
   "metadata": {
    "papermill": {
     "duration": 0.004267,
     "end_time": "2025-03-21T18:31:24.088994",
     "exception": false,
     "start_time": "2025-03-21T18:31:24.084727",
     "status": "completed"
    },
    "tags": []
   },
   "source": [
    "# 4.\n",
    "\n",
    "What are the lengths of the following lists? Fill in the variable `lengths` with your predictions. (Try to make a prediction for each list *without* just calling `len()` on it.)"
   ]
  },
  {
   "cell_type": "code",
   "execution_count": 8,
   "id": "42f56b3b",
   "metadata": {
    "execution": {
     "iopub.execute_input": "2025-03-21T18:31:24.099395Z",
     "iopub.status.busy": "2025-03-21T18:31:24.099031Z",
     "iopub.status.idle": "2025-03-21T18:31:24.107520Z",
     "shell.execute_reply": "2025-03-21T18:31:24.106266Z"
    },
    "papermill": {
     "duration": 0.015672,
     "end_time": "2025-03-21T18:31:24.109293",
     "exception": false,
     "start_time": "2025-03-21T18:31:24.093621",
     "status": "completed"
    },
    "tags": []
   },
   "outputs": [
    {
     "data": {
      "application/javascript": [
       "parent.postMessage({\"jupyterEvent\": \"custom.exercise_interaction\", \"data\": {\"outcomeType\": 1, \"valueTowardsCompletion\": 0.2, \"interactionType\": 1, \"questionType\": 1, \"questionId\": \"4_UnderstandLen\", \"learnToolsVersion\": \"0.3.4\", \"failureMessage\": \"\", \"exceptionClass\": \"\", \"trace\": \"\"}}, \"*\")"
      ],
      "text/plain": [
       "<IPython.core.display.Javascript object>"
      ]
     },
     "metadata": {},
     "output_type": "display_data"
    },
    {
     "data": {
      "text/markdown": [
       "<span style=\"color:#33cc33\">Correct:</span> \n",
       "\n",
       "\n",
       "- a: There are three items in this list. Nothing tricky yet.\n",
       "- b: The list `[2, 3]` counts as a single item. It has one item before it. So we have 2 items in the list\n",
       "- c: The empty list has 0 items\n",
       "- d: The expression is the same as the list `[2, 3]`, which has length 2."
      ],
      "text/plain": [
       "Correct: \n",
       "\n",
       "\n",
       "- a: There are three items in this list. Nothing tricky yet.\n",
       "- b: The list `[2, 3]` counts as a single item. It has one item before it. So we have 2 items in the list\n",
       "- c: The empty list has 0 items\n",
       "- d: The expression is the same as the list `[2, 3]`, which has length 2."
      ]
     },
     "metadata": {},
     "output_type": "display_data"
    }
   ],
   "source": [
    "a = [1, 2, 3]\n",
    "b = [1, [2, 3]]\n",
    "c = []\n",
    "d = [1, 2, 3][1:]\n",
    "\n",
    "# Put your predictions in the list below. Lengths should contain 4 numbers, the\n",
    "# first being the length of a, the second being the length of b and so on.\n",
    "lengths = [3, 2, 0, 2]\n",
    "\n",
    "# Check your answer\n",
    "q4.check()"
   ]
  },
  {
   "cell_type": "code",
   "execution_count": 9,
   "id": "aa9e7c9b",
   "metadata": {
    "execution": {
     "iopub.execute_input": "2025-03-21T18:31:24.120388Z",
     "iopub.status.busy": "2025-03-21T18:31:24.120049Z",
     "iopub.status.idle": "2025-03-21T18:31:24.123785Z",
     "shell.execute_reply": "2025-03-21T18:31:24.122897Z"
    },
    "papermill": {
     "duration": 0.011116,
     "end_time": "2025-03-21T18:31:24.125410",
     "exception": false,
     "start_time": "2025-03-21T18:31:24.114294",
     "status": "completed"
    },
    "tags": []
   },
   "outputs": [],
   "source": [
    "# line below provides some explanation\n",
    "#q4.solution()"
   ]
  },
  {
   "cell_type": "markdown",
   "id": "d58f32be",
   "metadata": {
    "papermill": {
     "duration": 0.004872,
     "end_time": "2025-03-21T18:31:24.135400",
     "exception": false,
     "start_time": "2025-03-21T18:31:24.130528",
     "status": "completed"
    },
    "tags": []
   },
   "source": [
    "# 5. <span title=\"A bit spicy\" style=\"color: darkgreen \">🌶️</span>\n",
    "\n",
    "We're using lists to record people who attended our party and what order they arrived in. For example, the following list represents a party with 7 guests, in which Adela showed up first and Ford was the last to arrive:\n",
    "\n",
    "    party_attendees = ['Adela', 'Fleda', 'Owen', 'May', 'Mona', 'Gilbert', 'Ford']\n",
    "\n",
    "A guest is considered 'fashionably late' if they arrived after at least half of the party's guests. However, they must not be the very last guest (that's taking it too far). In the above example, Mona and Gilbert are the only guests who were fashionably late.\n",
    "\n",
    "Complete the function below which takes a list of party attendees as well as a person, and tells us whether that person is fashionably late."
   ]
  },
  {
   "cell_type": "code",
   "execution_count": 10,
   "id": "d75ebeed",
   "metadata": {
    "execution": {
     "iopub.execute_input": "2025-03-21T18:31:24.146758Z",
     "iopub.status.busy": "2025-03-21T18:31:24.146390Z",
     "iopub.status.idle": "2025-03-21T18:31:24.154340Z",
     "shell.execute_reply": "2025-03-21T18:31:24.153401Z"
    },
    "papermill": {
     "duration": 0.015442,
     "end_time": "2025-03-21T18:31:24.155916",
     "exception": false,
     "start_time": "2025-03-21T18:31:24.140474",
     "status": "completed"
    },
    "tags": []
   },
   "outputs": [
    {
     "data": {
      "application/javascript": [
       "parent.postMessage({\"jupyterEvent\": \"custom.exercise_interaction\", \"data\": {\"outcomeType\": 4, \"interactionType\": 1, \"questionType\": 2, \"questionId\": \"5_FashionablyLate\", \"learnToolsVersion\": \"0.3.4\", \"valueTowardsCompletion\": 0.0, \"failureMessage\": \"\", \"exceptionClass\": \"\", \"trace\": \"\"}}, \"*\")"
      ],
      "text/plain": [
       "<IPython.core.display.Javascript object>"
      ]
     },
     "metadata": {},
     "output_type": "display_data"
    },
    {
     "data": {
      "text/markdown": [
       "<span style=\"color:#ccaa33\">Check:</span> When you've updated the starter code, `check()` will tell you whether your code is correct. "
      ],
      "text/plain": [
       "Check: When you've updated the starter code, `check()` will tell you whether your code is correct. "
      ]
     },
     "metadata": {},
     "output_type": "display_data"
    }
   ],
   "source": [
    "def fashionably_late(arrivals, name):\n",
    "    \"\"\"Given an ordered list of arrivals to the party and a name, return whether the guest with that\n",
    "    name was fashionably late.\n",
    "    \"\"\"\n",
    "    pass\n",
    "\n",
    "# Check your answer\n",
    "q5.check()"
   ]
  },
  {
   "cell_type": "code",
   "execution_count": 11,
   "id": "0c0d8f1e",
   "metadata": {
    "execution": {
     "iopub.execute_input": "2025-03-21T18:31:24.167922Z",
     "iopub.status.busy": "2025-03-21T18:31:24.167538Z",
     "iopub.status.idle": "2025-03-21T18:31:24.171370Z",
     "shell.execute_reply": "2025-03-21T18:31:24.170350Z"
    },
    "papermill": {
     "duration": 0.011583,
     "end_time": "2025-03-21T18:31:24.172932",
     "exception": false,
     "start_time": "2025-03-21T18:31:24.161349",
     "status": "completed"
    },
    "tags": []
   },
   "outputs": [],
   "source": [
    "#q5.hint()\n",
    "#q5.solution()"
   ]
  },
  {
   "cell_type": "markdown",
   "id": "210aa116",
   "metadata": {
    "papermill": {
     "duration": 0.005133,
     "end_time": "2025-03-21T18:31:24.183753",
     "exception": false,
     "start_time": "2025-03-21T18:31:24.178620",
     "status": "completed"
    },
    "tags": []
   },
   "source": [
    "# Keep Going\n",
    "\n",
    "That's it for lists and tuples! Now you have the baseline knowledge to **[learn about loops](https://www.kaggle.com/colinmorris/loops-and-list-comprehensions)**, which is where lists and tuples get really interesting. "
   ]
  },
  {
   "cell_type": "markdown",
   "id": "38679892",
   "metadata": {
    "papermill": {
     "duration": 0.005,
     "end_time": "2025-03-21T18:31:24.194189",
     "exception": false,
     "start_time": "2025-03-21T18:31:24.189189",
     "status": "completed"
    },
    "tags": []
   },
   "source": [
    "---\n",
    "\n",
    "\n",
    "\n",
    "\n",
    "*Have questions or comments? Visit the [course discussion forum](https://www.kaggle.com/learn/python/discussion) to chat with other learners.*"
   ]
  }
 ],
 "metadata": {
  "kaggle": {
   "accelerator": "none",
   "dataSources": [],
   "isGpuEnabled": false,
   "isInternetEnabled": false,
   "language": "python",
   "sourceType": "notebook"
  },
  "kernelspec": {
   "display_name": "Python 3",
   "language": "python",
   "name": "python3"
  },
  "language_info": {
   "codemirror_mode": {
    "name": "ipython",
    "version": 3
   },
   "file_extension": ".py",
   "mimetype": "text/x-python",
   "name": "python",
   "nbconvert_exporter": "python",
   "pygments_lexer": "ipython3",
   "version": "3.10.12"
  },
  "learntools_metadata": {
   "lesson_index": 3,
   "type": "exercise"
  },
  "papermill": {
   "default_parameters": {},
   "duration": 4.753932,
   "end_time": "2025-03-21T18:31:24.819320",
   "environment_variables": {},
   "exception": null,
   "input_path": "__notebook__.ipynb",
   "output_path": "__notebook__.ipynb",
   "parameters": {},
   "start_time": "2025-03-21T18:31:20.065388",
   "version": "2.6.0"
  }
 },
 "nbformat": 4,
 "nbformat_minor": 5
}
