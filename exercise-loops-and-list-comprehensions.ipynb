{
 "cells": [
  {
   "cell_type": "markdown",
   "id": "ce2839d9",
   "metadata": {
    "papermill": {
     "duration": 0.004792,
     "end_time": "2025-03-21T18:31:17.426698",
     "exception": false,
     "start_time": "2025-03-21T18:31:17.421906",
     "status": "completed"
    },
    "tags": []
   },
   "source": [
    "**This notebook is an exercise in the [Python](https://www.kaggle.com/learn/python) course.  You can reference the tutorial at [this link](https://www.kaggle.com/colinmorris/loops-and-list-comprehensions).**\n",
    "\n",
    "---\n"
   ]
  },
  {
   "cell_type": "markdown",
   "id": "b4ce6736",
   "metadata": {
    "papermill": {
     "duration": 0.003719,
     "end_time": "2025-03-21T18:31:17.434792",
     "exception": false,
     "start_time": "2025-03-21T18:31:17.431073",
     "status": "completed"
    },
    "tags": []
   },
   "source": [
    "With all you've learned, you can start writing much more interesting programs. See if you can solve the problems below.\n",
    "\n",
    "As always, run the setup code below before working on the questions."
   ]
  },
  {
   "cell_type": "code",
   "execution_count": 1,
   "id": "42305162",
   "metadata": {
    "execution": {
     "iopub.execute_input": "2025-03-21T18:31:17.445035Z",
     "iopub.status.busy": "2025-03-21T18:31:17.444622Z",
     "iopub.status.idle": "2025-03-21T18:31:18.496643Z",
     "shell.execute_reply": "2025-03-21T18:31:18.495356Z"
    },
    "papermill": {
     "duration": 1.05971,
     "end_time": "2025-03-21T18:31:18.498609",
     "exception": false,
     "start_time": "2025-03-21T18:31:17.438899",
     "status": "completed"
    },
    "tags": []
   },
   "outputs": [
    {
     "name": "stdout",
     "output_type": "stream",
     "text": [
      "Setup complete.\n"
     ]
    }
   ],
   "source": [
    "from learntools.core import binder; binder.bind(globals())\n",
    "from learntools.python.ex5 import *\n",
    "print('Setup complete.')"
   ]
  },
  {
   "cell_type": "markdown",
   "id": "8f077aaa",
   "metadata": {
    "papermill": {
     "duration": 0.003919,
     "end_time": "2025-03-21T18:31:18.506893",
     "exception": false,
     "start_time": "2025-03-21T18:31:18.502974",
     "status": "completed"
    },
    "tags": []
   },
   "source": [
    "# 1.\n",
    "\n",
    "Have you ever felt debugging involved a bit of luck? The following program has a bug. Try to identify the bug and fix it."
   ]
  },
  {
   "cell_type": "code",
   "execution_count": 2,
   "id": "43147d08",
   "metadata": {
    "execution": {
     "iopub.execute_input": "2025-03-21T18:31:18.516641Z",
     "iopub.status.busy": "2025-03-21T18:31:18.516134Z",
     "iopub.status.idle": "2025-03-21T18:31:18.521025Z",
     "shell.execute_reply": "2025-03-21T18:31:18.520017Z"
    },
    "papermill": {
     "duration": 0.011696,
     "end_time": "2025-03-21T18:31:18.522695",
     "exception": false,
     "start_time": "2025-03-21T18:31:18.510999",
     "status": "completed"
    },
    "tags": []
   },
   "outputs": [],
   "source": [
    "def has_lucky_number(nums):\n",
    "    \"\"\"Return whether the given list of numbers is lucky. A lucky list contains\n",
    "    at least one number divisible by 7.\n",
    "    \"\"\"\n",
    "    for num in nums:\n",
    "        if num % 7 == 0:\n",
    "            return True\n",
    "    return False"
   ]
  },
  {
   "cell_type": "markdown",
   "id": "f0f11a5a",
   "metadata": {
    "papermill": {
     "duration": 0.003994,
     "end_time": "2025-03-21T18:31:18.531068",
     "exception": false,
     "start_time": "2025-03-21T18:31:18.527074",
     "status": "completed"
    },
    "tags": []
   },
   "source": [
    "Try to identify the bug and fix it in the cell below:"
   ]
  },
  {
   "cell_type": "code",
   "execution_count": 3,
   "id": "2fea1d2c",
   "metadata": {
    "execution": {
     "iopub.execute_input": "2025-03-21T18:31:18.540692Z",
     "iopub.status.busy": "2025-03-21T18:31:18.540310Z",
     "iopub.status.idle": "2025-03-21T18:31:18.549319Z",
     "shell.execute_reply": "2025-03-21T18:31:18.548119Z"
    },
    "papermill": {
     "duration": 0.015777,
     "end_time": "2025-03-21T18:31:18.551060",
     "exception": false,
     "start_time": "2025-03-21T18:31:18.535283",
     "status": "completed"
    },
    "tags": []
   },
   "outputs": [
    {
     "data": {
      "application/javascript": [
       "parent.postMessage({\"jupyterEvent\": \"custom.exercise_interaction\", \"data\": {\"outcomeType\": 1, \"valueTowardsCompletion\": 0.25, \"interactionType\": 1, \"questionType\": 2, \"questionId\": \"1_EarlyExitDebugging\", \"learnToolsVersion\": \"0.3.4\", \"failureMessage\": \"\", \"exceptionClass\": \"\", \"trace\": \"\"}}, \"*\")"
      ],
      "text/plain": [
       "<IPython.core.display.Javascript object>"
      ]
     },
     "metadata": {},
     "output_type": "display_data"
    },
    {
     "data": {
      "text/markdown": [
       "<span style=\"color:#33cc33\">Correct:</span> \n",
       "\n",
       "Remember that `return` causes a function to exit immediately. So our original implementation always ran for just one iteration. We can only return `False` if we've looked at every element of the list (and confirmed that none of them are lucky). Though we can return early if the answer is `True`:\n",
       "\n",
       "```python\n",
       "def has_lucky_number(nums):\n",
       "    for num in nums:\n",
       "        if num % 7 == 0:\n",
       "            return True\n",
       "    # We've exhausted the list without finding a lucky number\n",
       "    return False\n",
       "```\n",
       "\n",
       "Here's a one-line version using a list comprehension with Python's `any` function (you can read about what it does by calling `help(any)`):\n",
       "\n",
       "```python\n",
       "def has_lucky_number(nums):\n",
       "    return any([num % 7 == 0 for num in nums])\n",
       "```\n"
      ],
      "text/plain": [
       "Correct: \n",
       "\n",
       "Remember that `return` causes a function to exit immediately. So our original implementation always ran for just one iteration. We can only return `False` if we've looked at every element of the list (and confirmed that none of them are lucky). Though we can return early if the answer is `True`:\n",
       "\n",
       "```python\n",
       "def has_lucky_number(nums):\n",
       "    for num in nums:\n",
       "        if num % 7 == 0:\n",
       "            return True\n",
       "    # We've exhausted the list without finding a lucky number\n",
       "    return False\n",
       "```\n",
       "\n",
       "Here's a one-line version using a list comprehension with Python's `any` function (you can read about what it does by calling `help(any)`):\n",
       "\n",
       "```python\n",
       "def has_lucky_number(nums):\n",
       "    return any([num % 7 == 0 for num in nums])\n",
       "```"
      ]
     },
     "metadata": {},
     "output_type": "display_data"
    }
   ],
   "source": [
    "def has_lucky_number(nums):\n",
    "    \"\"\"Return whether the given list of numbers is lucky. A lucky list contains\n",
    "    at least one number divisible by 7.\n",
    "    \"\"\"\n",
    "    for num in nums:\n",
    "        if num % 7 == 0:\n",
    "            return True\n",
    "    return False\n",
    "\n",
    "# Check your answer\n",
    "q1.check()"
   ]
  },
  {
   "cell_type": "code",
   "execution_count": 4,
   "id": "57956937",
   "metadata": {
    "execution": {
     "iopub.execute_input": "2025-03-21T18:31:18.561293Z",
     "iopub.status.busy": "2025-03-21T18:31:18.560931Z",
     "iopub.status.idle": "2025-03-21T18:31:18.564668Z",
     "shell.execute_reply": "2025-03-21T18:31:18.563585Z"
    },
    "papermill": {
     "duration": 0.010623,
     "end_time": "2025-03-21T18:31:18.566289",
     "exception": false,
     "start_time": "2025-03-21T18:31:18.555666",
     "status": "completed"
    },
    "tags": []
   },
   "outputs": [],
   "source": [
    "#q1.hint()\n",
    "#q1.solution()"
   ]
  },
  {
   "cell_type": "markdown",
   "id": "a7437f23",
   "metadata": {
    "papermill": {
     "duration": 0.004378,
     "end_time": "2025-03-21T18:31:18.575345",
     "exception": false,
     "start_time": "2025-03-21T18:31:18.570967",
     "status": "completed"
    },
    "tags": []
   },
   "source": [
    "# 2.\n",
    "Look at the Python expression below. What do you think we'll get when we run it? When you've made your prediction, uncomment the code and run the cell to see if you were right."
   ]
  },
  {
   "cell_type": "code",
   "execution_count": 5,
   "id": "480e04bc",
   "metadata": {
    "execution": {
     "iopub.execute_input": "2025-03-21T18:31:18.585890Z",
     "iopub.status.busy": "2025-03-21T18:31:18.585564Z",
     "iopub.status.idle": "2025-03-21T18:31:18.591340Z",
     "shell.execute_reply": "2025-03-21T18:31:18.590292Z"
    },
    "papermill": {
     "duration": 0.012777,
     "end_time": "2025-03-21T18:31:18.592994",
     "exception": false,
     "start_time": "2025-03-21T18:31:18.580217",
     "status": "completed"
    },
    "tags": []
   },
   "outputs": [
    {
     "data": {
      "text/plain": [
       "True"
      ]
     },
     "execution_count": 5,
     "metadata": {},
     "output_type": "execute_result"
    }
   ],
   "source": [
    "len([1, 2, 3, 4]) > 2"
   ]
  },
  {
   "cell_type": "markdown",
   "id": "1bdaac27",
   "metadata": {
    "papermill": {
     "duration": 0.0046,
     "end_time": "2025-03-21T18:31:18.602482",
     "exception": false,
     "start_time": "2025-03-21T18:31:18.597882",
     "status": "completed"
    },
    "tags": []
   },
   "source": [
    "R and Python have some libraries (like numpy and pandas) compare each element of the list to 2 (i.e. do an 'element-wise' comparison) and give us a list of booleans like `[False, False, True, True]`. \n",
    "\n",
    "Implement a function that reproduces this behaviour, returning a list of booleans corresponding to whether the corresponding element is greater than n."
   ]
  },
  {
   "cell_type": "code",
   "execution_count": 6,
   "id": "99705202",
   "metadata": {
    "execution": {
     "iopub.execute_input": "2025-03-21T18:31:18.613236Z",
     "iopub.status.busy": "2025-03-21T18:31:18.612881Z",
     "iopub.status.idle": "2025-03-21T18:31:18.620947Z",
     "shell.execute_reply": "2025-03-21T18:31:18.620033Z"
    },
    "papermill": {
     "duration": 0.015378,
     "end_time": "2025-03-21T18:31:18.622537",
     "exception": false,
     "start_time": "2025-03-21T18:31:18.607159",
     "status": "completed"
    },
    "tags": []
   },
   "outputs": [
    {
     "data": {
      "application/javascript": [
       "parent.postMessage({\"jupyterEvent\": \"custom.exercise_interaction\", \"data\": {\"outcomeType\": 1, \"valueTowardsCompletion\": 0.25, \"interactionType\": 1, \"questionType\": 2, \"questionId\": \"2_ElementWiseComparison\", \"learnToolsVersion\": \"0.3.4\", \"failureMessage\": \"\", \"exceptionClass\": \"\", \"trace\": \"\"}}, \"*\")"
      ],
      "text/plain": [
       "<IPython.core.display.Javascript object>"
      ]
     },
     "metadata": {},
     "output_type": "display_data"
    },
    {
     "data": {
      "text/markdown": [
       "<span style=\"color:#33cc33\">Correct:</span> \n",
       "\n",
       "Here's one solution:\n",
       "```python\n",
       "def elementwise_greater_than(L, thresh):\n",
       "    res = []\n",
       "    for ele in L:\n",
       "        res.append(ele > thresh)\n",
       "    return res\n",
       "```\n",
       "\n",
       "And here's the list comprehension version:\n",
       "```python\n",
       "def elementwise_greater_than(L, thresh):\n",
       "    return [ele > thresh for ele in L]\n",
       "```\n"
      ],
      "text/plain": [
       "Correct: \n",
       "\n",
       "Here's one solution:\n",
       "```python\n",
       "def elementwise_greater_than(L, thresh):\n",
       "    res = []\n",
       "    for ele in L:\n",
       "        res.append(ele > thresh)\n",
       "    return res\n",
       "```\n",
       "\n",
       "And here's the list comprehension version:\n",
       "```python\n",
       "def elementwise_greater_than(L, thresh):\n",
       "    return [ele > thresh for ele in L]\n",
       "```"
      ]
     },
     "metadata": {},
     "output_type": "display_data"
    }
   ],
   "source": [
    "def elementwise_greater_than(L, thresh):\n",
    "    \"\"\"Return a list with the same length as L, where the value at index i is \n",
    "    True if L[i] is greater than thresh, and False otherwise.\n",
    "    \n",
    "    >>> elementwise_greater_than([1, 2, 3, 4], 2)\n",
    "    [False, False, True, True]\n",
    "    \"\"\"\n",
    "    pass\n",
    "    return [x > thresh for x in L]\n",
    "\n",
    "    \n",
    "# Check your answer\n",
    "q2.check()"
   ]
  },
  {
   "cell_type": "code",
   "execution_count": 7,
   "id": "767afe2a",
   "metadata": {
    "execution": {
     "iopub.execute_input": "2025-03-21T18:31:18.633972Z",
     "iopub.status.busy": "2025-03-21T18:31:18.633638Z",
     "iopub.status.idle": "2025-03-21T18:31:18.637829Z",
     "shell.execute_reply": "2025-03-21T18:31:18.636789Z"
    },
    "papermill": {
     "duration": 0.012083,
     "end_time": "2025-03-21T18:31:18.639812",
     "exception": false,
     "start_time": "2025-03-21T18:31:18.627729",
     "status": "completed"
    },
    "tags": []
   },
   "outputs": [],
   "source": [
    "#q2.solution()"
   ]
  },
  {
   "cell_type": "markdown",
   "id": "c45350d2",
   "metadata": {
    "papermill": {
     "duration": 0.00477,
     "end_time": "2025-03-21T18:31:18.650137",
     "exception": false,
     "start_time": "2025-03-21T18:31:18.645367",
     "status": "completed"
    },
    "tags": []
   },
   "source": [
    "# 3.\n",
    "\n",
    "Complete the body of the function below according to its docstring."
   ]
  },
  {
   "cell_type": "code",
   "execution_count": 8,
   "id": "ca31abc1",
   "metadata": {
    "execution": {
     "iopub.execute_input": "2025-03-21T18:31:18.661390Z",
     "iopub.status.busy": "2025-03-21T18:31:18.661022Z",
     "iopub.status.idle": "2025-03-21T18:31:18.669769Z",
     "shell.execute_reply": "2025-03-21T18:31:18.668616Z"
    },
    "papermill": {
     "duration": 0.016597,
     "end_time": "2025-03-21T18:31:18.671710",
     "exception": false,
     "start_time": "2025-03-21T18:31:18.655113",
     "status": "completed"
    },
    "tags": []
   },
   "outputs": [
    {
     "data": {
      "application/javascript": [
       "parent.postMessage({\"jupyterEvent\": \"custom.exercise_interaction\", \"data\": {\"outcomeType\": 1, \"valueTowardsCompletion\": 0.25, \"interactionType\": 1, \"questionType\": 2, \"questionId\": \"3_BoringMenu\", \"learnToolsVersion\": \"0.3.4\", \"failureMessage\": \"\", \"exceptionClass\": \"\", \"trace\": \"\"}}, \"*\")"
      ],
      "text/plain": [
       "<IPython.core.display.Javascript object>"
      ]
     },
     "metadata": {},
     "output_type": "display_data"
    },
    {
     "data": {
      "text/markdown": [
       "<span style=\"color:#33cc33\">Correct:</span> \n",
       "\n",
       "\n",
       "\n",
       "```python\n",
       "def menu_is_boring(meals):\n",
       "    # Iterate over all indices of the list, except the last one\n",
       "    for i in range(len(meals)-1):\n",
       "        if meals[i] == meals[i+1]:\n",
       "            return True\n",
       "    return False\n",
       "```\n",
       "\n",
       "The key to our solution is the call to `range`. `range(len(meals))` would give us all the indices of `meals`. If we had used that range, the last iteration of the loop would be comparing the last element to the element after it, which is... `IndexError`! `range(len(meals)-1)` gives us all the indices except the index of the last element.\n",
       "\n",
       "But don't we need to check if `meals` is empty? Turns out that `range(0) == range(-1)` - they're both empty. So if `meals` has length 0 or 1, we just won't do any iterations of our for loop.\n"
      ],
      "text/plain": [
       "Correct: \n",
       "\n",
       "\n",
       "\n",
       "```python\n",
       "def menu_is_boring(meals):\n",
       "    # Iterate over all indices of the list, except the last one\n",
       "    for i in range(len(meals)-1):\n",
       "        if meals[i] == meals[i+1]:\n",
       "            return True\n",
       "    return False\n",
       "```\n",
       "\n",
       "The key to our solution is the call to `range`. `range(len(meals))` would give us all the indices of `meals`. If we had used that range, the last iteration of the loop would be comparing the last element to the element after it, which is... `IndexError`! `range(len(meals)-1)` gives us all the indices except the index of the last element.\n",
       "\n",
       "But don't we need to check if `meals` is empty? Turns out that `range(0) == range(-1)` - they're both empty. So if `meals` has length 0 or 1, we just won't do any iterations of our for loop."
      ]
     },
     "metadata": {},
     "output_type": "display_data"
    }
   ],
   "source": [
    "def menu_is_boring(meals):\n",
    "    \"\"\"Given a list of meals served over some period of time, return True if the\n",
    "    same meal has ever been served two days in a row, and False otherwise.\n",
    "    \"\"\"\n",
    "    for i in range(len(meals)-1):\n",
    "        if meals[i] == meals[i+1]:\n",
    "            return True\n",
    "    return False\n",
    "# Check your answer\n",
    "q3.check()"
   ]
  },
  {
   "cell_type": "code",
   "execution_count": 9,
   "id": "c809b06f",
   "metadata": {
    "execution": {
     "iopub.execute_input": "2025-03-21T18:31:18.684136Z",
     "iopub.status.busy": "2025-03-21T18:31:18.683817Z",
     "iopub.status.idle": "2025-03-21T18:31:18.687622Z",
     "shell.execute_reply": "2025-03-21T18:31:18.686554Z"
    },
    "papermill": {
     "duration": 0.012177,
     "end_time": "2025-03-21T18:31:18.689523",
     "exception": false,
     "start_time": "2025-03-21T18:31:18.677346",
     "status": "completed"
    },
    "tags": []
   },
   "outputs": [],
   "source": [
    "#q3.hint()\n",
    "#q3.solution()"
   ]
  },
  {
   "cell_type": "markdown",
   "id": "6131c35b",
   "metadata": {
    "papermill": {
     "duration": 0.00535,
     "end_time": "2025-03-21T18:31:18.700330",
     "exception": false,
     "start_time": "2025-03-21T18:31:18.694980",
     "status": "completed"
    },
    "tags": []
   },
   "source": [
    "# 4. <span title=\"A bit spicy\" style=\"color: darkgreen \">🌶️</span>\n",
    "\n",
    "Next to the Blackjack table, the Python Challenge Casino has a slot machine. You can get a result from the slot machine by calling `play_slot_machine()`. The number it returns is your winnings in dollars. Usually it returns 0.  But sometimes you'll get lucky and get a big payday. Try running it below:"
   ]
  },
  {
   "cell_type": "code",
   "execution_count": 10,
   "id": "ac360e74",
   "metadata": {
    "execution": {
     "iopub.execute_input": "2025-03-21T18:31:18.712277Z",
     "iopub.status.busy": "2025-03-21T18:31:18.711907Z",
     "iopub.status.idle": "2025-03-21T18:31:18.717817Z",
     "shell.execute_reply": "2025-03-21T18:31:18.716434Z"
    },
    "papermill": {
     "duration": 0.014026,
     "end_time": "2025-03-21T18:31:18.719584",
     "exception": false,
     "start_time": "2025-03-21T18:31:18.705558",
     "status": "completed"
    },
    "tags": []
   },
   "outputs": [
    {
     "data": {
      "text/plain": [
       "1.5"
      ]
     },
     "execution_count": 10,
     "metadata": {},
     "output_type": "execute_result"
    }
   ],
   "source": [
    "play_slot_machine()"
   ]
  },
  {
   "cell_type": "markdown",
   "id": "8708b17a",
   "metadata": {
    "papermill": {
     "duration": 0.005498,
     "end_time": "2025-03-21T18:31:18.730667",
     "exception": false,
     "start_time": "2025-03-21T18:31:18.725169",
     "status": "completed"
    },
    "tags": []
   },
   "source": [
    "By the way, did we mention that each play costs $1? Don't worry, we'll send you the bill later.\n",
    "\n",
    "On average, how much money can you expect to gain (or lose) every time you play the machine?  The casino keeps it a secret, but you can estimate the average value of each pull using a technique called the **Monte Carlo method**. To estimate the average outcome, we simulate the scenario many times, and return the average result.\n",
    "\n",
    "Complete the following function to calculate the average value per play of the slot machine."
   ]
  },
  {
   "cell_type": "code",
   "execution_count": 11,
   "id": "af963c02",
   "metadata": {
    "execution": {
     "iopub.execute_input": "2025-03-21T18:31:18.742931Z",
     "iopub.status.busy": "2025-03-21T18:31:18.742593Z",
     "iopub.status.idle": "2025-03-21T18:31:18.747209Z",
     "shell.execute_reply": "2025-03-21T18:31:18.746286Z"
    },
    "papermill": {
     "duration": 0.012939,
     "end_time": "2025-03-21T18:31:18.748874",
     "exception": false,
     "start_time": "2025-03-21T18:31:18.735935",
     "status": "completed"
    },
    "tags": []
   },
   "outputs": [],
   "source": [
    "def estimate_average_slot_payout(n_runs):\n",
    "    \"\"\"Run the slot machine n_runs times and return the average net profit per run.\n",
    "    Example calls (note that return value is nondeterministic!):\n",
    "    >>> estimate_average_slot_payout(1)\n",
    "    -1\n",
    "    >>> estimate_average_slot_payout(1)\n",
    "    0.5\n",
    "    \"\"\"\n",
    "    payouts = [play_slot_machine()-1 for i in range(n_runs)]\n",
    "    # Calculate the average value\n",
    "    avg_payout = sum(payouts) / n_runs\n",
    "    return avg_payout"
   ]
  },
  {
   "cell_type": "markdown",
   "id": "c5a5679c",
   "metadata": {
    "papermill": {
     "duration": 0.00539,
     "end_time": "2025-03-21T18:31:18.759949",
     "exception": false,
     "start_time": "2025-03-21T18:31:18.754559",
     "status": "completed"
    },
    "tags": []
   },
   "source": [
    "When you think you know the expected value per spin, run the code cell below to view the solution and get credit for answering the question."
   ]
  },
  {
   "cell_type": "code",
   "execution_count": 12,
   "id": "14783aa7",
   "metadata": {
    "execution": {
     "iopub.execute_input": "2025-03-21T18:31:18.772524Z",
     "iopub.status.busy": "2025-03-21T18:31:18.772121Z",
     "iopub.status.idle": "2025-03-21T18:31:18.775939Z",
     "shell.execute_reply": "2025-03-21T18:31:18.775015Z"
    },
    "papermill": {
     "duration": 0.01199,
     "end_time": "2025-03-21T18:31:18.777759",
     "exception": false,
     "start_time": "2025-03-21T18:31:18.765769",
     "status": "completed"
    },
    "tags": []
   },
   "outputs": [],
   "source": [
    "# Check your answer (Run this code cell to receive credit!)\n",
    "#q4.solution()"
   ]
  },
  {
   "cell_type": "markdown",
   "id": "9961440f",
   "metadata": {
    "papermill": {
     "duration": 0.005826,
     "end_time": "2025-03-21T18:31:18.789313",
     "exception": false,
     "start_time": "2025-03-21T18:31:18.783487",
     "status": "completed"
    },
    "tags": []
   },
   "source": [
    "# Keep Going\n",
    "\n",
    "Many programmers report that dictionaries are their favorite data structure. You'll get to **[learn about them](https://www.kaggle.com/colinmorris/strings-and-dictionaries)** (as well as strings) in the next lesson."
   ]
  },
  {
   "cell_type": "markdown",
   "id": "e4f1b440",
   "metadata": {
    "papermill": {
     "duration": 0.005076,
     "end_time": "2025-03-21T18:31:18.799854",
     "exception": false,
     "start_time": "2025-03-21T18:31:18.794778",
     "status": "completed"
    },
    "tags": []
   },
   "source": [
    "---\n",
    "\n",
    "\n",
    "\n",
    "\n",
    "*Have questions or comments? Visit the [course discussion forum](https://www.kaggle.com/learn/python/discussion) to chat with other learners.*"
   ]
  }
 ],
 "metadata": {
  "kaggle": {
   "accelerator": "none",
   "dataSources": [],
   "isGpuEnabled": false,
   "isInternetEnabled": false,
   "language": "python",
   "sourceType": "notebook"
  },
  "kernelspec": {
   "display_name": "Python 3",
   "language": "python",
   "name": "python3"
  },
  "language_info": {
   "codemirror_mode": {
    "name": "ipython",
    "version": 3
   },
   "file_extension": ".py",
   "mimetype": "text/x-python",
   "name": "python",
   "nbconvert_exporter": "python",
   "pygments_lexer": "ipython3",
   "version": "3.10.12"
  },
  "learntools_metadata": {
   "lesson_index": 4,
   "type": "exercise"
  },
  "papermill": {
   "default_parameters": {},
   "duration": 4.889234,
   "end_time": "2025-03-21T18:31:19.425453",
   "environment_variables": {},
   "exception": null,
   "input_path": "__notebook__.ipynb",
   "output_path": "__notebook__.ipynb",
   "parameters": {},
   "start_time": "2025-03-21T18:31:14.536219",
   "version": "2.6.0"
  }
 },
 "nbformat": 4,
 "nbformat_minor": 5
}
