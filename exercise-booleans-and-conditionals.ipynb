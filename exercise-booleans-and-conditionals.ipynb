{
 "cells": [
  {
   "cell_type": "markdown",
   "id": "58aa159c",
   "metadata": {
    "papermill": {
     "duration": 0.007195,
     "end_time": "2025-03-21T18:31:30.270474",
     "exception": false,
     "start_time": "2025-03-21T18:31:30.263279",
     "status": "completed"
    },
    "tags": []
   },
   "source": [
    "**This notebook is an exercise in the [Python](https://www.kaggle.com/learn/python) course.  You can reference the tutorial at [this link](https://www.kaggle.com/colinmorris/booleans-and-conditionals).**\n",
    "\n",
    "---\n"
   ]
  },
  {
   "cell_type": "markdown",
   "id": "67694752",
   "metadata": {
    "papermill": {
     "duration": 0.006015,
     "end_time": "2025-03-21T18:31:30.283557",
     "exception": false,
     "start_time": "2025-03-21T18:31:30.277542",
     "status": "completed"
    },
    "tags": []
   },
   "source": [
    "In this exercise, you'll put to work what you have learned about booleans and conditionals.\n",
    "\n",
    "To get started, **run the setup code below** before writing your own code (and if you leave this notebook and come back later, don't forget to run the setup code again)."
   ]
  },
  {
   "cell_type": "code",
   "execution_count": 1,
   "id": "9f948137",
   "metadata": {
    "execution": {
     "iopub.execute_input": "2025-03-21T18:31:30.297804Z",
     "iopub.status.busy": "2025-03-21T18:31:30.297299Z",
     "iopub.status.idle": "2025-03-21T18:31:31.354908Z",
     "shell.execute_reply": "2025-03-21T18:31:31.353576Z"
    },
    "papermill": {
     "duration": 1.066835,
     "end_time": "2025-03-21T18:31:31.356768",
     "exception": false,
     "start_time": "2025-03-21T18:31:30.289933",
     "status": "completed"
    },
    "tags": []
   },
   "outputs": [
    {
     "name": "stdout",
     "output_type": "stream",
     "text": [
      "Setup complete.\n"
     ]
    }
   ],
   "source": [
    "from learntools.core import binder; binder.bind(globals())\n",
    "from learntools.python.ex3 import *\n",
    "print('Setup complete.')"
   ]
  },
  {
   "cell_type": "markdown",
   "id": "9c998c0a",
   "metadata": {
    "papermill": {
     "duration": 0.006134,
     "end_time": "2025-03-21T18:31:31.369862",
     "exception": false,
     "start_time": "2025-03-21T18:31:31.363728",
     "status": "completed"
    },
    "tags": []
   },
   "source": [
    "# 1.\n",
    "\n",
    "Many programming languages have [`sign`](https://en.wikipedia.org/wiki/Sign_function) available as a built-in function. Python doesn't, but we can define our own!\n",
    "\n",
    "In the cell below, define a function called `sign` which takes a numerical argument and returns -1 if it's negative, 1 if it's positive, and 0 if it's 0."
   ]
  },
  {
   "cell_type": "code",
   "execution_count": 2,
   "id": "46844936",
   "metadata": {
    "execution": {
     "iopub.execute_input": "2025-03-21T18:31:31.384116Z",
     "iopub.status.busy": "2025-03-21T18:31:31.383550Z",
     "iopub.status.idle": "2025-03-21T18:31:31.392804Z",
     "shell.execute_reply": "2025-03-21T18:31:31.391742Z"
    },
    "papermill": {
     "duration": 0.018493,
     "end_time": "2025-03-21T18:31:31.394771",
     "exception": false,
     "start_time": "2025-03-21T18:31:31.376278",
     "status": "completed"
    },
    "tags": []
   },
   "outputs": [
    {
     "data": {
      "application/javascript": [
       "parent.postMessage({\"jupyterEvent\": \"custom.exercise_interaction\", \"data\": {\"outcomeType\": 1, \"valueTowardsCompletion\": 0.2, \"interactionType\": 1, \"questionType\": 2, \"questionId\": \"1_SignFunctionProblem\", \"learnToolsVersion\": \"0.3.4\", \"failureMessage\": \"\", \"exceptionClass\": \"\", \"trace\": \"\"}}, \"*\")"
      ],
      "text/plain": [
       "<IPython.core.display.Javascript object>"
      ]
     },
     "metadata": {},
     "output_type": "display_data"
    },
    {
     "data": {
      "text/markdown": [
       "<span style=\"color:#33cc33\">Correct</span>"
      ],
      "text/plain": [
       "Correct"
      ]
     },
     "metadata": {},
     "output_type": "display_data"
    }
   ],
   "source": [
    "# Your code goes here. Define a function called 'sign'\n",
    "def sign(x):\n",
    "    if x > 0:\n",
    "        return 1\n",
    "    elif x < 0:\n",
    "        return -1\n",
    "    else:\n",
    "        return 0\n",
    "# Check your answer\n",
    "q1.check()"
   ]
  },
  {
   "cell_type": "code",
   "execution_count": 3,
   "id": "f7d776c8",
   "metadata": {
    "execution": {
     "iopub.execute_input": "2025-03-21T18:31:31.409655Z",
     "iopub.status.busy": "2025-03-21T18:31:31.409289Z",
     "iopub.status.idle": "2025-03-21T18:31:31.413119Z",
     "shell.execute_reply": "2025-03-21T18:31:31.412115Z"
    },
    "papermill": {
     "duration": 0.013051,
     "end_time": "2025-03-21T18:31:31.414767",
     "exception": false,
     "start_time": "2025-03-21T18:31:31.401716",
     "status": "completed"
    },
    "tags": []
   },
   "outputs": [],
   "source": [
    "#q1.solution()"
   ]
  },
  {
   "cell_type": "markdown",
   "id": "4f6c35c2",
   "metadata": {
    "papermill": {
     "duration": 0.006685,
     "end_time": "2025-03-21T18:31:31.430003",
     "exception": false,
     "start_time": "2025-03-21T18:31:31.423318",
     "status": "completed"
    },
    "tags": []
   },
   "source": [
    "# 2.\n",
    "\n",
    "We've decided to add \"logging\" to our `to_smash` function from the previous exercise."
   ]
  },
  {
   "cell_type": "code",
   "execution_count": 4,
   "id": "0eef9a70",
   "metadata": {
    "execution": {
     "iopub.execute_input": "2025-03-21T18:31:31.444682Z",
     "iopub.status.busy": "2025-03-21T18:31:31.444290Z",
     "iopub.status.idle": "2025-03-21T18:31:31.452287Z",
     "shell.execute_reply": "2025-03-21T18:31:31.451172Z"
    },
    "papermill": {
     "duration": 0.017117,
     "end_time": "2025-03-21T18:31:31.453850",
     "exception": false,
     "start_time": "2025-03-21T18:31:31.436733",
     "status": "completed"
    },
    "tags": []
   },
   "outputs": [
    {
     "name": "stdout",
     "output_type": "stream",
     "text": [
      "Splitting 91 candies\n"
     ]
    },
    {
     "data": {
      "text/plain": [
       "1"
      ]
     },
     "execution_count": 4,
     "metadata": {},
     "output_type": "execute_result"
    }
   ],
   "source": [
    "def to_smash(total_candies):\n",
    "    \"\"\"Return the number of leftover candies that must be smashed after distributing\n",
    "    the given number of candies evenly between 3 friends.\n",
    "    \n",
    "    >>> to_smash(91)\n",
    "    1\n",
    "    \"\"\"\n",
    "    print(\"Splitting\", total_candies, \"candies\")\n",
    "    return total_candies % 3\n",
    "\n",
    "to_smash(91)"
   ]
  },
  {
   "cell_type": "markdown",
   "id": "9b3759c9",
   "metadata": {
    "papermill": {
     "duration": 0.007182,
     "end_time": "2025-03-21T18:31:31.468358",
     "exception": false,
     "start_time": "2025-03-21T18:31:31.461176",
     "status": "completed"
    },
    "tags": []
   },
   "source": [
    "What happens if we call it with `total_candies = 1`?"
   ]
  },
  {
   "cell_type": "code",
   "execution_count": 5,
   "id": "6f1e665c",
   "metadata": {
    "execution": {
     "iopub.execute_input": "2025-03-21T18:31:31.483812Z",
     "iopub.status.busy": "2025-03-21T18:31:31.483398Z",
     "iopub.status.idle": "2025-03-21T18:31:31.490835Z",
     "shell.execute_reply": "2025-03-21T18:31:31.489731Z"
    },
    "papermill": {
     "duration": 0.016939,
     "end_time": "2025-03-21T18:31:31.492544",
     "exception": false,
     "start_time": "2025-03-21T18:31:31.475605",
     "status": "completed"
    },
    "tags": []
   },
   "outputs": [
    {
     "name": "stdout",
     "output_type": "stream",
     "text": [
      "Splitting 1 candies\n"
     ]
    },
    {
     "data": {
      "text/plain": [
       "1"
      ]
     },
     "execution_count": 5,
     "metadata": {},
     "output_type": "execute_result"
    }
   ],
   "source": [
    "to_smash(1)"
   ]
  },
  {
   "cell_type": "markdown",
   "id": "999b095e",
   "metadata": {
    "papermill": {
     "duration": 0.006801,
     "end_time": "2025-03-21T18:31:31.506793",
     "exception": false,
     "start_time": "2025-03-21T18:31:31.499992",
     "status": "completed"
    },
    "tags": []
   },
   "source": [
    "That isn't great grammar!\n",
    "\n",
    "Modify the definition in the cell below to correct the grammar of our print statement. (If there's only one candy, we should use the singular \"candy\" instead of the plural \"candies\")"
   ]
  },
  {
   "cell_type": "code",
   "execution_count": 6,
   "id": "93d387a9",
   "metadata": {
    "execution": {
     "iopub.execute_input": "2025-03-21T18:31:31.522707Z",
     "iopub.status.busy": "2025-03-21T18:31:31.522323Z",
     "iopub.status.idle": "2025-03-21T18:31:31.530837Z",
     "shell.execute_reply": "2025-03-21T18:31:31.529774Z"
    },
    "papermill": {
     "duration": 0.018604,
     "end_time": "2025-03-21T18:31:31.532730",
     "exception": false,
     "start_time": "2025-03-21T18:31:31.514126",
     "status": "completed"
    },
    "tags": []
   },
   "outputs": [
    {
     "name": "stdout",
     "output_type": "stream",
     "text": [
      "Splitting 91 candies\n",
      "Splitting 1 candies\n"
     ]
    },
    {
     "data": {
      "text/plain": [
       "1"
      ]
     },
     "execution_count": 6,
     "metadata": {},
     "output_type": "execute_result"
    }
   ],
   "source": [
    "def to_smash(total_candies):\n",
    "    \"\"\"Return the number of leftover candies that must be smashed after distributing\n",
    "    the given number of candies evenly between 3 friends.\n",
    "    \n",
    "    >>> to_smash(91)\n",
    "    1\n",
    "    \"\"\"\n",
    "    \n",
    "    print(\"Splitting\", total_candies, \"candies\")\n",
    "    return total_candies % 3\n",
    "\n",
    "to_smash(91)\n",
    "to_smash(1)\n"
   ]
  },
  {
   "cell_type": "markdown",
   "id": "345668b2",
   "metadata": {
    "papermill": {
     "duration": 0.007021,
     "end_time": "2025-03-21T18:31:31.547271",
     "exception": false,
     "start_time": "2025-03-21T18:31:31.540250",
     "status": "completed"
    },
    "tags": []
   },
   "source": [
    "To get credit for completing this problem, and to see the official answer, run the code cell below."
   ]
  },
  {
   "cell_type": "code",
   "execution_count": 7,
   "id": "0493b2c3",
   "metadata": {
    "execution": {
     "iopub.execute_input": "2025-03-21T18:31:31.563391Z",
     "iopub.status.busy": "2025-03-21T18:31:31.562993Z",
     "iopub.status.idle": "2025-03-21T18:31:31.566963Z",
     "shell.execute_reply": "2025-03-21T18:31:31.565899Z"
    },
    "papermill": {
     "duration": 0.014023,
     "end_time": "2025-03-21T18:31:31.568716",
     "exception": false,
     "start_time": "2025-03-21T18:31:31.554693",
     "status": "completed"
    },
    "tags": []
   },
   "outputs": [],
   "source": [
    "# Check your answer (Run this code cell to receive credit!)\n",
    "#q2.solution()"
   ]
  },
  {
   "cell_type": "markdown",
   "id": "267fb740",
   "metadata": {
    "papermill": {
     "duration": 0.008011,
     "end_time": "2025-03-21T18:31:31.584343",
     "exception": false,
     "start_time": "2025-03-21T18:31:31.576332",
     "status": "completed"
    },
    "tags": []
   },
   "source": [
    "# 3. <span title=\"A bit spicy\" style=\"color: darkgreen \">🌶️</span>\n",
    "\n",
    "In the tutorial, we talked about deciding whether we're prepared for the weather. I said that I'm safe from today's weather if...\n",
    "- I have an umbrella...\n",
    "- or if the rain isn't too heavy and I have a hood...\n",
    "- otherwise, I'm still fine unless it's raining *and* it's a workday\n",
    "\n",
    "The function below uses our first attempt at turning this logic into a Python expression. I claimed that there was a bug in that code. Can you find it?\n",
    "\n",
    "To prove that `prepared_for_weather` is buggy, come up with a set of inputs where either:\n",
    "- the function returns `False` (but should have returned `True`), or\n",
    "- the function returned `True` (but should have returned `False`).\n",
    "\n",
    "To get credit for completing this question, your code should return a <font color='#33cc33'>Correct</font> result."
   ]
  },
  {
   "cell_type": "code",
   "execution_count": 8,
   "id": "4d57eb75",
   "metadata": {
    "execution": {
     "iopub.execute_input": "2025-03-21T18:31:31.600551Z",
     "iopub.status.busy": "2025-03-21T18:31:31.600112Z",
     "iopub.status.idle": "2025-03-21T18:31:31.610562Z",
     "shell.execute_reply": "2025-03-21T18:31:31.609369Z"
    },
    "papermill": {
     "duration": 0.020453,
     "end_time": "2025-03-21T18:31:31.612345",
     "exception": false,
     "start_time": "2025-03-21T18:31:31.591892",
     "status": "completed"
    },
    "tags": []
   },
   "outputs": [
    {
     "name": "stdout",
     "output_type": "stream",
     "text": [
      "False\n"
     ]
    },
    {
     "data": {
      "application/javascript": [
       "parent.postMessage({\"jupyterEvent\": \"custom.exercise_interaction\", \"data\": {\"outcomeType\": 1, \"valueTowardsCompletion\": 0.2, \"interactionType\": 1, \"questionType\": 1, \"questionId\": \"3_WeatherDebug\", \"learnToolsVersion\": \"0.3.4\", \"failureMessage\": \"\", \"exceptionClass\": \"\", \"trace\": \"\"}}, \"*\")"
      ],
      "text/plain": [
       "<IPython.core.display.Javascript object>"
      ]
     },
     "metadata": {},
     "output_type": "display_data"
    },
    {
     "data": {
      "text/markdown": [
       "<span style=\"color:#33cc33\">Correct:</span> \n",
       "\n",
       "One example of a failing test case is:\n",
       "\n",
       "```python\n",
       "have_umbrella = False\n",
       "rain_level = 0.0\n",
       "have_hood = False\n",
       "is_workday = False\n",
       "```\n",
       "\n",
       "Clearly we're prepared for the weather in this case. It's not raining. Not only that, it's not a workday, so we don't even need to leave the house! But our function will return False on these inputs.\n",
       "\n",
       "The key problem is that Python implictly parenthesizes the last part as:\n",
       "\n",
       "```python\n",
       "(not (rain_level > 0)) and is_workday\n",
       "```\n",
       "\n",
       "Whereas what we were trying to express would look more like:\n",
       "\n",
       "```python\n",
       "not (rain_level > 0 and is_workday)\n",
       "```\n"
      ],
      "text/plain": [
       "Correct: \n",
       "\n",
       "One example of a failing test case is:\n",
       "\n",
       "```python\n",
       "have_umbrella = False\n",
       "rain_level = 0.0\n",
       "have_hood = False\n",
       "is_workday = False\n",
       "```\n",
       "\n",
       "Clearly we're prepared for the weather in this case. It's not raining. Not only that, it's not a workday, so we don't even need to leave the house! But our function will return False on these inputs.\n",
       "\n",
       "The key problem is that Python implictly parenthesizes the last part as:\n",
       "\n",
       "```python\n",
       "(not (rain_level > 0)) and is_workday\n",
       "```\n",
       "\n",
       "Whereas what we were trying to express would look more like:\n",
       "\n",
       "```python\n",
       "not (rain_level > 0 and is_workday)\n",
       "```"
      ]
     },
     "metadata": {},
     "output_type": "display_data"
    }
   ],
   "source": [
    "def prepared_for_weather(have_umbrella, rain_level, have_hood, is_workday):\n",
    "    # Don't change this code. Our goal is just to find the bug, not fix it!\n",
    "    return have_umbrella or rain_level < 5 and have_hood or not rain_level > 0 and is_workday\n",
    "\n",
    "# Change the values of these inputs so they represent a case where prepared_for_weather\n",
    "# returns the wrong answer.\n",
    "have_umbrella = False\n",
    "rain_level = 0.0\n",
    "have_hood = False\n",
    "is_workday = False\n",
    "# Check what the function returns given the current values of the variables above\n",
    "actual = prepared_for_weather(have_umbrella, rain_level, have_hood, is_workday)\n",
    "print(actual)\n",
    "\n",
    "# Check your answer\n",
    "q3.check()"
   ]
  },
  {
   "cell_type": "code",
   "execution_count": 9,
   "id": "2f659c8a",
   "metadata": {
    "execution": {
     "iopub.execute_input": "2025-03-21T18:31:31.630871Z",
     "iopub.status.busy": "2025-03-21T18:31:31.630417Z",
     "iopub.status.idle": "2025-03-21T18:31:31.634597Z",
     "shell.execute_reply": "2025-03-21T18:31:31.633415Z"
    },
    "papermill": {
     "duration": 0.016187,
     "end_time": "2025-03-21T18:31:31.636565",
     "exception": false,
     "start_time": "2025-03-21T18:31:31.620378",
     "status": "completed"
    },
    "tags": []
   },
   "outputs": [],
   "source": [
    "#q3.hint()\n",
    "#q3.solution()"
   ]
  },
  {
   "cell_type": "markdown",
   "id": "cd5fedde",
   "metadata": {
    "papermill": {
     "duration": 0.007595,
     "end_time": "2025-03-21T18:31:31.652234",
     "exception": false,
     "start_time": "2025-03-21T18:31:31.644639",
     "status": "completed"
    },
    "tags": []
   },
   "source": [
    "# 4.\n",
    "\n",
    "The function `is_negative` below is implemented correctly - it returns True if the given number is negative and False otherwise.\n",
    "\n",
    "However, it's more verbose than it needs to be. We can actually reduce the number of lines of code in this function by *75%* while keeping the same behaviour. \n",
    "\n",
    "See if you can come up with an equivalent body that uses just **one line** of code, and put it in the function `concise_is_negative`. (HINT: you don't even need Python's ternary syntax)"
   ]
  },
  {
   "cell_type": "code",
   "execution_count": 10,
   "id": "10150b59",
   "metadata": {
    "execution": {
     "iopub.execute_input": "2025-03-21T18:31:31.669405Z",
     "iopub.status.busy": "2025-03-21T18:31:31.669021Z",
     "iopub.status.idle": "2025-03-21T18:31:31.677536Z",
     "shell.execute_reply": "2025-03-21T18:31:31.676566Z"
    },
    "papermill": {
     "duration": 0.019061,
     "end_time": "2025-03-21T18:31:31.679173",
     "exception": false,
     "start_time": "2025-03-21T18:31:31.660112",
     "status": "completed"
    },
    "tags": []
   },
   "outputs": [
    {
     "data": {
      "application/javascript": [
       "parent.postMessage({\"jupyterEvent\": \"custom.exercise_interaction\", \"data\": {\"outcomeType\": 1, \"valueTowardsCompletion\": 0.2, \"interactionType\": 1, \"questionType\": 2, \"questionId\": \"4_ConciseIsNegative\", \"learnToolsVersion\": \"0.3.4\", \"failureMessage\": \"\", \"exceptionClass\": \"\", \"trace\": \"\"}}, \"*\")"
      ],
      "text/plain": [
       "<IPython.core.display.Javascript object>"
      ]
     },
     "metadata": {},
     "output_type": "display_data"
    },
    {
     "data": {
      "text/markdown": [
       "<span style=\"color:#33cc33\">Correct</span>"
      ],
      "text/plain": [
       "Correct"
      ]
     },
     "metadata": {},
     "output_type": "display_data"
    }
   ],
   "source": [
    "def is_negative(number):\n",
    "    if number < 0:\n",
    "        return True\n",
    "    else:\n",
    "        return False\n",
    "\n",
    "def concise_is_negative(number):\n",
    "    \n",
    "    pass\n",
    "    return number < 0\n",
    "    # Your code goes here (try to keep it to one line!)\n",
    "# Check your answer\n",
    "q4.check()"
   ]
  },
  {
   "cell_type": "code",
   "execution_count": 11,
   "id": "62d75a0a",
   "metadata": {
    "execution": {
     "iopub.execute_input": "2025-03-21T18:31:31.696817Z",
     "iopub.status.busy": "2025-03-21T18:31:31.696418Z",
     "iopub.status.idle": "2025-03-21T18:31:31.700562Z",
     "shell.execute_reply": "2025-03-21T18:31:31.699399Z"
    },
    "papermill": {
     "duration": 0.014856,
     "end_time": "2025-03-21T18:31:31.702346",
     "exception": false,
     "start_time": "2025-03-21T18:31:31.687490",
     "status": "completed"
    },
    "tags": []
   },
   "outputs": [],
   "source": [
    "#q4.hint()\n",
    "#q4.solution()"
   ]
  },
  {
   "cell_type": "markdown",
   "id": "a54e5e8b",
   "metadata": {
    "papermill": {
     "duration": 0.008102,
     "end_time": "2025-03-21T18:31:31.719082",
     "exception": false,
     "start_time": "2025-03-21T18:31:31.710980",
     "status": "completed"
    },
    "tags": []
   },
   "source": [
    "# 5a.\n",
    "\n",
    "The boolean variables `ketchup`, `mustard` and `onion` represent whether a customer wants a particular topping on their hot dog. We want to implement a number of boolean functions that correspond to some yes-or-no questions about the customer's order. For example:"
   ]
  },
  {
   "cell_type": "code",
   "execution_count": 12,
   "id": "cb82bde6",
   "metadata": {
    "execution": {
     "iopub.execute_input": "2025-03-21T18:31:31.737096Z",
     "iopub.status.busy": "2025-03-21T18:31:31.736739Z",
     "iopub.status.idle": "2025-03-21T18:31:31.741353Z",
     "shell.execute_reply": "2025-03-21T18:31:31.740271Z"
    },
    "papermill": {
     "duration": 0.015733,
     "end_time": "2025-03-21T18:31:31.743296",
     "exception": false,
     "start_time": "2025-03-21T18:31:31.727563",
     "status": "completed"
    },
    "tags": []
   },
   "outputs": [],
   "source": [
    "def onionless(ketchup, mustard, onion):\n",
    "    \"\"\"Return whether the customer doesn't want onions.\n",
    "    \"\"\"\n",
    "    return not onion"
   ]
  },
  {
   "cell_type": "code",
   "execution_count": 13,
   "id": "9c8b4a51",
   "metadata": {
    "execution": {
     "iopub.execute_input": "2025-03-21T18:31:31.761895Z",
     "iopub.status.busy": "2025-03-21T18:31:31.761520Z",
     "iopub.status.idle": "2025-03-21T18:31:31.769628Z",
     "shell.execute_reply": "2025-03-21T18:31:31.768554Z"
    },
    "papermill": {
     "duration": 0.019529,
     "end_time": "2025-03-21T18:31:31.771411",
     "exception": false,
     "start_time": "2025-03-21T18:31:31.751882",
     "status": "completed"
    },
    "tags": []
   },
   "outputs": [
    {
     "data": {
      "application/javascript": [
       "parent.postMessage({\"jupyterEvent\": \"custom.exercise_interaction\", \"data\": {\"outcomeType\": 1, \"valueTowardsCompletion\": 0.2, \"interactionType\": 1, \"questionType\": 2, \"questionId\": \"5.1_AllToppings\", \"learnToolsVersion\": \"0.3.4\", \"failureMessage\": \"\", \"exceptionClass\": \"\", \"trace\": \"\"}}, \"*\")"
      ],
      "text/plain": [
       "<IPython.core.display.Javascript object>"
      ]
     },
     "metadata": {},
     "output_type": "display_data"
    },
    {
     "data": {
      "text/markdown": [
       "<span style=\"color:#33cc33\">Correct</span>"
      ],
      "text/plain": [
       "Correct"
      ]
     },
     "metadata": {},
     "output_type": "display_data"
    }
   ],
   "source": [
    "def wants_all_toppings(ketchup, mustard, onion):\n",
    "    \"\"\"Return whether the customer wants \"the works\" (all 3 toppings)\n",
    "    \"\"\"\n",
    "    pass\n",
    "    return ketchup and mustard and onion\n",
    "# Check your answer\n",
    "q5.a.check()"
   ]
  },
  {
   "cell_type": "code",
   "execution_count": 14,
   "id": "827e60f3",
   "metadata": {
    "execution": {
     "iopub.execute_input": "2025-03-21T18:31:31.790525Z",
     "iopub.status.busy": "2025-03-21T18:31:31.790157Z",
     "iopub.status.idle": "2025-03-21T18:31:31.794264Z",
     "shell.execute_reply": "2025-03-21T18:31:31.793262Z"
    },
    "papermill": {
     "duration": 0.015281,
     "end_time": "2025-03-21T18:31:31.795904",
     "exception": false,
     "start_time": "2025-03-21T18:31:31.780623",
     "status": "completed"
    },
    "tags": []
   },
   "outputs": [],
   "source": [
    "#q5.a.hint()\n",
    "#q5.a.solution()"
   ]
  },
  {
   "cell_type": "markdown",
   "id": "ffa0bba3",
   "metadata": {
    "papermill": {
     "duration": 0.008349,
     "end_time": "2025-03-21T18:31:31.812919",
     "exception": false,
     "start_time": "2025-03-21T18:31:31.804570",
     "status": "completed"
    },
    "tags": []
   },
   "source": [
    "# 5b.\n",
    "\n",
    "For the next function, fill in the body to match the English description in the docstring. "
   ]
  },
  {
   "cell_type": "code",
   "execution_count": 15,
   "id": "1cca683c",
   "metadata": {
    "execution": {
     "iopub.execute_input": "2025-03-21T18:31:31.831426Z",
     "iopub.status.busy": "2025-03-21T18:31:31.831047Z",
     "iopub.status.idle": "2025-03-21T18:31:31.839119Z",
     "shell.execute_reply": "2025-03-21T18:31:31.838065Z"
    },
    "papermill": {
     "duration": 0.019027,
     "end_time": "2025-03-21T18:31:31.840676",
     "exception": false,
     "start_time": "2025-03-21T18:31:31.821649",
     "status": "completed"
    },
    "tags": []
   },
   "outputs": [
    {
     "data": {
      "application/javascript": [
       "parent.postMessage({\"jupyterEvent\": \"custom.exercise_interaction\", \"data\": {\"outcomeType\": 1, \"valueTowardsCompletion\": 0.2, \"interactionType\": 1, \"questionType\": 2, \"questionId\": \"5.2_PlainDog\", \"learnToolsVersion\": \"0.3.4\", \"failureMessage\": \"\", \"exceptionClass\": \"\", \"trace\": \"\"}}, \"*\")"
      ],
      "text/plain": [
       "<IPython.core.display.Javascript object>"
      ]
     },
     "metadata": {},
     "output_type": "display_data"
    },
    {
     "data": {
      "text/markdown": [
       "<span style=\"color:#33cc33\">Correct:</span> \n",
       "\n",
       "One solution looks like:\n",
       "```python\n",
       "return not ketchup and not mustard and not onion\n",
       "```\n",
       "\n",
       "We can also [\"factor out\" the nots](https://en.wikipedia.org/wiki/De_Morgan%27s_laws) to get:\n",
       "\n",
       "```python\n",
       "return not (ketchup or mustard or onion)\n",
       "```"
      ],
      "text/plain": [
       "Correct: \n",
       "\n",
       "One solution looks like:\n",
       "```python\n",
       "return not ketchup and not mustard and not onion\n",
       "```\n",
       "\n",
       "We can also [\"factor out\" the nots](https://en.wikipedia.org/wiki/De_Morgan%27s_laws) to get:\n",
       "\n",
       "```python\n",
       "return not (ketchup or mustard or onion)\n",
       "```"
      ]
     },
     "metadata": {},
     "output_type": "display_data"
    }
   ],
   "source": [
    "def wants_plain_hotdog(ketchup, mustard, onion):\n",
    "    \"\"\"Return whether the customer wants a plain hot dog with no toppings.\n",
    "    \"\"\"\n",
    "    pass\n",
    "    return not ketchup and not mustard and not onion\n",
    "\n",
    "\n",
    "# Check your answer\n",
    "q5.b.check()"
   ]
  },
  {
   "cell_type": "code",
   "execution_count": 16,
   "id": "37a99e1d",
   "metadata": {
    "execution": {
     "iopub.execute_input": "2025-03-21T18:31:31.860300Z",
     "iopub.status.busy": "2025-03-21T18:31:31.859977Z",
     "iopub.status.idle": "2025-03-21T18:31:31.863681Z",
     "shell.execute_reply": "2025-03-21T18:31:31.862590Z"
    },
    "papermill": {
     "duration": 0.0154,
     "end_time": "2025-03-21T18:31:31.865480",
     "exception": false,
     "start_time": "2025-03-21T18:31:31.850080",
     "status": "completed"
    },
    "tags": []
   },
   "outputs": [],
   "source": [
    "#q5.b.hint()\n",
    "#q5.b.solution()"
   ]
  },
  {
   "cell_type": "markdown",
   "id": "76f814e6",
   "metadata": {
    "papermill": {
     "duration": 0.008576,
     "end_time": "2025-03-21T18:31:31.883100",
     "exception": false,
     "start_time": "2025-03-21T18:31:31.874524",
     "status": "completed"
    },
    "tags": []
   },
   "source": [
    "# 5c.\n",
    "\n",
    "You know what to do: for the next function, fill in the body to match the English description in the docstring."
   ]
  },
  {
   "cell_type": "code",
   "execution_count": 17,
   "id": "47a7d67c",
   "metadata": {
    "execution": {
     "iopub.execute_input": "2025-03-21T18:31:31.901780Z",
     "iopub.status.busy": "2025-03-21T18:31:31.901361Z",
     "iopub.status.idle": "2025-03-21T18:31:31.909677Z",
     "shell.execute_reply": "2025-03-21T18:31:31.908629Z"
    },
    "papermill": {
     "duration": 0.019428,
     "end_time": "2025-03-21T18:31:31.911230",
     "exception": false,
     "start_time": "2025-03-21T18:31:31.891802",
     "status": "completed"
    },
    "tags": []
   },
   "outputs": [
    {
     "data": {
      "application/javascript": [
       "parent.postMessage({\"jupyterEvent\": \"custom.exercise_interaction\", \"data\": {\"outcomeType\": 1, \"valueTowardsCompletion\": 0.2, \"interactionType\": 1, \"questionType\": 2, \"questionId\": \"5.3_OneSauce\", \"learnToolsVersion\": \"0.3.4\", \"failureMessage\": \"\", \"exceptionClass\": \"\", \"trace\": \"\"}}, \"*\")"
      ],
      "text/plain": [
       "<IPython.core.display.Javascript object>"
      ]
     },
     "metadata": {},
     "output_type": "display_data"
    },
    {
     "data": {
      "text/markdown": [
       "<span style=\"color:#33cc33\">Correct</span>"
      ],
      "text/plain": [
       "Correct"
      ]
     },
     "metadata": {},
     "output_type": "display_data"
    }
   ],
   "source": [
    "def exactly_one_sauce(ketchup, mustard, onion):\n",
    "    \"\"\"Return whether the customer wants either ketchup or mustard, but not both.\n",
    "    (You may be familiar with this operation under the name \"exclusive or\")\n",
    "    \"\"\"\n",
    "    pass\n",
    "    return (ketchup and not mustard) or (mustard and not ketchup)\n",
    "\n",
    "\n",
    "# Check your answer\n",
    "q5.c.check()"
   ]
  },
  {
   "cell_type": "code",
   "execution_count": 18,
   "id": "4406206f",
   "metadata": {
    "execution": {
     "iopub.execute_input": "2025-03-21T18:31:31.931030Z",
     "iopub.status.busy": "2025-03-21T18:31:31.930666Z",
     "iopub.status.idle": "2025-03-21T18:31:31.934508Z",
     "shell.execute_reply": "2025-03-21T18:31:31.933549Z"
    },
    "papermill": {
     "duration": 0.015693,
     "end_time": "2025-03-21T18:31:31.936362",
     "exception": false,
     "start_time": "2025-03-21T18:31:31.920669",
     "status": "completed"
    },
    "tags": []
   },
   "outputs": [],
   "source": [
    "#q5.c.hint()\n",
    "#q5.c.solution()"
   ]
  },
  {
   "cell_type": "markdown",
   "id": "f7a29258",
   "metadata": {
    "papermill": {
     "duration": 0.00911,
     "end_time": "2025-03-21T18:31:31.954952",
     "exception": false,
     "start_time": "2025-03-21T18:31:31.945842",
     "status": "completed"
    },
    "tags": []
   },
   "source": [
    "# 6. <span title=\"A bit spicy\" style=\"color: darkgreen \">🌶️</span>\n",
    "\n",
    "We’ve seen that calling `bool()` on an integer returns `False` if it’s equal to 0 and `True` otherwise. What happens if we call `int()` on a bool? Try it out in the notebook cell below.\n",
    "\n",
    "Can you take advantage of this to write a succinct function that corresponds to the English sentence \"does the customer want exactly one topping?\"?"
   ]
  },
  {
   "cell_type": "code",
   "execution_count": 19,
   "id": "75bedb4f",
   "metadata": {
    "execution": {
     "iopub.execute_input": "2025-03-21T18:31:31.974538Z",
     "iopub.status.busy": "2025-03-21T18:31:31.974133Z",
     "iopub.status.idle": "2025-03-21T18:31:31.983070Z",
     "shell.execute_reply": "2025-03-21T18:31:31.982022Z"
    },
    "papermill": {
     "duration": 0.020483,
     "end_time": "2025-03-21T18:31:31.984583",
     "exception": false,
     "start_time": "2025-03-21T18:31:31.964100",
     "status": "completed"
    },
    "tags": []
   },
   "outputs": [
    {
     "data": {
      "application/javascript": [
       "parent.postMessage({\"jupyterEvent\": \"custom.exercise_interaction\", \"data\": {\"outcomeType\": 1, \"valueTowardsCompletion\": 0.2, \"interactionType\": 1, \"questionType\": 2, \"questionId\": \"6_OneTopping\", \"learnToolsVersion\": \"0.3.4\", \"failureMessage\": \"\", \"exceptionClass\": \"\", \"trace\": \"\"}}, \"*\")"
      ],
      "text/plain": [
       "<IPython.core.display.Javascript object>"
      ]
     },
     "metadata": {},
     "output_type": "display_data"
    },
    {
     "data": {
      "text/markdown": [
       "<span style=\"color:#33cc33\">Correct:</span> \n",
       "\n",
       "This condition would be pretty complicated to express using just `and`, `or` and `not`, but using boolean-to-integer conversion gives us this short solution:\n",
       "```python\n",
       "return (int(ketchup) + int(mustard) + int(onion)) == 1\n",
       "```\n",
       "\n",
       "Fun fact: we don't technically need to call `int` on the arguments. Just by doing addition with booleans, Python implicitly does the integer conversion. So we could also write...\n",
       "\n",
       "```python\n",
       "return (ketchup + mustard + onion) == 1\n",
       "```"
      ],
      "text/plain": [
       "Correct: \n",
       "\n",
       "This condition would be pretty complicated to express using just `and`, `or` and `not`, but using boolean-to-integer conversion gives us this short solution:\n",
       "```python\n",
       "return (int(ketchup) + int(mustard) + int(onion)) == 1\n",
       "```\n",
       "\n",
       "Fun fact: we don't technically need to call `int` on the arguments. Just by doing addition with booleans, Python implicitly does the integer conversion. So we could also write...\n",
       "\n",
       "```python\n",
       "return (ketchup + mustard + onion) == 1\n",
       "```"
      ]
     },
     "metadata": {},
     "output_type": "display_data"
    }
   ],
   "source": [
    "def exactly_one_topping(ketchup, mustard, onion):\n",
    "    \"\"\"Return whether the customer wants exactly one of the three available toppings\n",
    "    on their hot dog.\n",
    "    \"\"\"\n",
    "    pass\n",
    "    return (int(ketchup) + int(mustard) + int(onion)) == 1\n",
    "\n",
    "\n",
    "# Check your answer\n",
    "q6.check()"
   ]
  },
  {
   "cell_type": "code",
   "execution_count": 20,
   "id": "f5ef4b0f",
   "metadata": {
    "execution": {
     "iopub.execute_input": "2025-03-21T18:31:32.005606Z",
     "iopub.status.busy": "2025-03-21T18:31:32.005238Z",
     "iopub.status.idle": "2025-03-21T18:31:32.009023Z",
     "shell.execute_reply": "2025-03-21T18:31:32.007921Z"
    },
    "papermill": {
     "duration": 0.016161,
     "end_time": "2025-03-21T18:31:32.010756",
     "exception": false,
     "start_time": "2025-03-21T18:31:31.994595",
     "status": "completed"
    },
    "tags": []
   },
   "outputs": [],
   "source": [
    "#q6.hint()\n",
    "#q6.solution()"
   ]
  },
  {
   "cell_type": "markdown",
   "id": "f3a85519",
   "metadata": {
    "papermill": {
     "duration": 0.009132,
     "end_time": "2025-03-21T18:31:32.029551",
     "exception": false,
     "start_time": "2025-03-21T18:31:32.020419",
     "status": "completed"
    },
    "tags": []
   },
   "source": [
    "# 7. <span title=\"A bit spicy\" style=\"color: darkgreen \">🌶️</span> (Optional)\n",
    "\n",
    "In this problem we'll be working with a simplified version of [blackjack](https://en.wikipedia.org/wiki/Blackjack) (aka twenty-one). In this version there is one player (who you'll control) and a dealer. Play proceeds as follows:\n",
    "\n",
    "- The player is dealt two face-up cards. The dealer is dealt one face-up card.\n",
    "- The player may ask to be dealt another card ('hit') as many times as they wish. If the sum of their cards exceeds 21, they lose the round immediately.\n",
    "- The dealer then deals additional cards to himself until either:\n",
    "    - the sum of the dealer's cards exceeds 21, in which case the player wins the round\n",
    "    - the sum of the dealer's cards is greater than or equal to 17. If the player's total is greater than the dealer's, the player wins. Otherwise, the dealer wins (even in case of a tie).\n",
    "    \n",
    "When calculating the sum of cards, Jack, Queen, and King count for 10. Aces can count as 1 or 11 (when referring to a player's \"total\" above, we mean the largest total that can be made without exceeding 21. So e.g. A+8 = 19, A+8+8 = 17)\n",
    "\n",
    "For this problem, you'll write a function representing the player's decision-making strategy in this game. We've provided a very unintelligent implementation below:"
   ]
  },
  {
   "cell_type": "code",
   "execution_count": 21,
   "id": "c5fb0ad0",
   "metadata": {
    "execution": {
     "iopub.execute_input": "2025-03-21T18:31:32.049504Z",
     "iopub.status.busy": "2025-03-21T18:31:32.049132Z",
     "iopub.status.idle": "2025-03-21T18:31:32.053703Z",
     "shell.execute_reply": "2025-03-21T18:31:32.052592Z"
    },
    "papermill": {
     "duration": 0.016692,
     "end_time": "2025-03-21T18:31:32.055569",
     "exception": false,
     "start_time": "2025-03-21T18:31:32.038877",
     "status": "completed"
    },
    "tags": []
   },
   "outputs": [],
   "source": [
    "def should_hit(dealer_total, player_total, player_low_aces, player_high_aces):\n",
    "    \"\"\"Return True if the player should hit (request another card) given the current game\n",
    "    state, or False if the player should stay.\n",
    "    When calculating a hand's total value, we count aces as \"high\" (with value 11) if doing so\n",
    "    doesn't bring the total above 21, otherwise we count them as low (with value 1). \n",
    "    For example, if the player's hand is {A, A, A, 7}, we will count it as 11 + 1 + 1 + 7,\n",
    "    and therefore set player_total=20, player_low_aces=2, player_high_aces=1.\n",
    "    \"\"\"\n",
    "    return False"
   ]
  },
  {
   "cell_type": "markdown",
   "id": "f2cb1146",
   "metadata": {
    "papermill": {
     "duration": 0.009594,
     "end_time": "2025-03-21T18:31:32.074846",
     "exception": false,
     "start_time": "2025-03-21T18:31:32.065252",
     "status": "completed"
    },
    "tags": []
   },
   "source": [
    "This very conservative agent *always* sticks with the hand of two cards that they're dealt.\n",
    "\n",
    "We'll be simulating games between your player agent and our own dealer agent by calling your function.\n",
    "\n",
    "Try running the function below to see an example of a simulated game:"
   ]
  },
  {
   "cell_type": "code",
   "execution_count": 22,
   "id": "d4df21ad",
   "metadata": {
    "execution": {
     "iopub.execute_input": "2025-03-21T18:31:32.095317Z",
     "iopub.status.busy": "2025-03-21T18:31:32.094924Z",
     "iopub.status.idle": "2025-03-21T18:31:32.101917Z",
     "shell.execute_reply": "2025-03-21T18:31:32.100789Z"
    },
    "papermill": {
     "duration": 0.019511,
     "end_time": "2025-03-21T18:31:32.103757",
     "exception": false,
     "start_time": "2025-03-21T18:31:32.084246",
     "status": "completed"
    },
    "tags": []
   },
   "outputs": [
    {
     "name": "stdout",
     "output_type": "stream",
     "text": [
      "Player starts with 8 and 8 (total = 16)\n",
      "Dealer starts with 7\n",
      "\n",
      "__Player's turn__\n",
      "Player stays\n",
      "\n",
      "__Dealer's turn__\n",
      "Dealer hits and receives 9. (total = 16)\n",
      "Dealer hits and receives 9. (total = 25)\n",
      "Dealer busts! Player wins.\n"
     ]
    }
   ],
   "source": [
    "q7.simulate_one_game()"
   ]
  },
  {
   "cell_type": "markdown",
   "id": "ebe47cad",
   "metadata": {
    "papermill": {
     "duration": 0.009494,
     "end_time": "2025-03-21T18:31:32.122978",
     "exception": false,
     "start_time": "2025-03-21T18:31:32.113484",
     "status": "completed"
    },
    "tags": []
   },
   "source": [
    "The real test of your agent's mettle is their average win rate over many games. Try calling the function below to simulate 50000 games of blackjack (it may take a couple seconds):"
   ]
  },
  {
   "cell_type": "code",
   "execution_count": 23,
   "id": "fb08f5e7",
   "metadata": {
    "execution": {
     "iopub.execute_input": "2025-03-21T18:31:32.144272Z",
     "iopub.status.busy": "2025-03-21T18:31:32.143770Z",
     "iopub.status.idle": "2025-03-21T18:31:33.331055Z",
     "shell.execute_reply": "2025-03-21T18:31:33.329760Z"
    },
    "papermill": {
     "duration": 1.200164,
     "end_time": "2025-03-21T18:31:33.333012",
     "exception": false,
     "start_time": "2025-03-21T18:31:32.132848",
     "status": "completed"
    },
    "tags": []
   },
   "outputs": [
    {
     "name": "stdout",
     "output_type": "stream",
     "text": [
      "Player won 18946 out of 50000 games (win rate = 37.9%)\n"
     ]
    }
   ],
   "source": [
    "q7.simulate(n_games=50000)"
   ]
  },
  {
   "cell_type": "markdown",
   "id": "3b62ae68",
   "metadata": {
    "papermill": {
     "duration": 0.009391,
     "end_time": "2025-03-21T18:31:33.352325",
     "exception": false,
     "start_time": "2025-03-21T18:31:33.342934",
     "status": "completed"
    },
    "tags": []
   },
   "source": [
    "Our dumb agent that completely ignores the game state still manages to win shockingly often!\n",
    "\n",
    "Try adding some more smarts to the `should_hit` function and see how it affects the results."
   ]
  },
  {
   "cell_type": "code",
   "execution_count": 24,
   "id": "9a6e319d",
   "metadata": {
    "execution": {
     "iopub.execute_input": "2025-03-21T18:31:33.373215Z",
     "iopub.status.busy": "2025-03-21T18:31:33.372817Z",
     "iopub.status.idle": "2025-03-21T18:31:34.465520Z",
     "shell.execute_reply": "2025-03-21T18:31:34.464228Z"
    },
    "papermill": {
     "duration": 1.105576,
     "end_time": "2025-03-21T18:31:34.467574",
     "exception": false,
     "start_time": "2025-03-21T18:31:33.361998",
     "status": "completed"
    },
    "tags": []
   },
   "outputs": [
    {
     "name": "stdout",
     "output_type": "stream",
     "text": [
      "Player won 19101 out of 50000 games (win rate = 38.2%)\n"
     ]
    }
   ],
   "source": [
    "def should_hit(dealer_total, player_total, player_low_aces, player_high_aces):\n",
    "    \"\"\"Return True if the player should hit (request another card) given the current game\n",
    "    state, or False if the player should stay.\n",
    "    When calculating a hand's total value, we count aces as \"high\" (with value 11) if doing so\n",
    "    doesn't bring the total above 21, otherwise we count them as low (with value 1). \n",
    "    For example, if the player's hand is {A, A, A, 7}, we will count it as 11 + 1 + 1 + 7,\n",
    "    and therefore set player_total=20, player_low_aces=2, player_high_aces=1.\n",
    "    \"\"\"\n",
    "    return False\n",
    "\n",
    "q7.simulate(n_games=50000)"
   ]
  },
  {
   "cell_type": "markdown",
   "id": "a253f75d",
   "metadata": {
    "papermill": {
     "duration": 0.009569,
     "end_time": "2025-03-21T18:31:34.486816",
     "exception": false,
     "start_time": "2025-03-21T18:31:34.477247",
     "status": "completed"
    },
    "tags": []
   },
   "source": [
    "# Keep Going\n",
    "\n",
    "Learn about **[lists and tuples](https://www.kaggle.com/colinmorris/lists)** to handle multiple items of data in a systematic way."
   ]
  },
  {
   "cell_type": "markdown",
   "id": "07208848",
   "metadata": {
    "papermill": {
     "duration": 0.009424,
     "end_time": "2025-03-21T18:31:34.506116",
     "exception": false,
     "start_time": "2025-03-21T18:31:34.496692",
     "status": "completed"
    },
    "tags": []
   },
   "source": [
    "---\n",
    "\n",
    "\n",
    "\n",
    "\n",
    "*Have questions or comments? Visit the [course discussion forum](https://www.kaggle.com/learn/python/discussion) to chat with other learners.*"
   ]
  }
 ],
 "metadata": {
  "kaggle": {
   "accelerator": "none",
   "dataSources": [],
   "isGpuEnabled": false,
   "isInternetEnabled": false,
   "language": "python",
   "sourceType": "notebook"
  },
  "kernelspec": {
   "display_name": "Python 3",
   "language": "python",
   "name": "python3"
  },
  "language_info": {
   "codemirror_mode": {
    "name": "ipython",
    "version": 3
   },
   "file_extension": ".py",
   "mimetype": "text/x-python",
   "name": "python",
   "nbconvert_exporter": "python",
   "pygments_lexer": "ipython3",
   "version": "3.10.12"
  },
  "learntools_metadata": {
   "lesson_index": 2,
   "type": "exercise"
  },
  "papermill": {
   "default_parameters": {},
   "duration": 8.469779,
   "end_time": "2025-03-21T18:31:35.136643",
   "environment_variables": {},
   "exception": null,
   "input_path": "__notebook__.ipynb",
   "output_path": "__notebook__.ipynb",
   "parameters": {},
   "start_time": "2025-03-21T18:31:26.666864",
   "version": "2.6.0"
  }
 },
 "nbformat": 4,
 "nbformat_minor": 5
}
